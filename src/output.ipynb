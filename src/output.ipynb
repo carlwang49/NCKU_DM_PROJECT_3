{
 "cells": [
  {
   "cell_type": "markdown",
   "metadata": {},
   "source": [
    "# Initialization"
   ]
  },
  {
   "cell_type": "code",
   "execution_count": 41,
   "metadata": {},
   "outputs": [],
   "source": [
    "from HITS import run_hits_algorithm\n",
    "from sim_rank import sim_rank\n",
    "from page_rank import page_rank\n",
    "from utility.utils import initialize_graph_from_file\n",
    "import numpy as np\n",
    "import time\n",
    "import networkx as nx\n",
    "import matplotlib.pyplot as plt"
   ]
  },
  {
   "cell_type": "markdown",
   "metadata": {},
   "source": [
    "# Draw Graph Utility"
   ]
  },
  {
   "cell_type": "code",
   "execution_count": 42,
   "metadata": {},
   "outputs": [],
   "source": [
    "def create_graph_from_file(file_path):\n",
    "    \"\"\"\n",
    "    Create and return a NetworkX directed graph based on the provided file.\n",
    "    \n",
    "    Args:\n",
    "    file_path (str): Path to the file containing graph edges.\n",
    "    \n",
    "    Returns:\n",
    "    networkx.DiGraph: The directed graph created from the file.\n",
    "    \"\"\"\n",
    "    G = nx.DiGraph()\n",
    "    with open(file_path, 'r') as file:\n",
    "        for line in file:\n",
    "            parts = line.strip().split(',')\n",
    "            if len(parts) == 2:\n",
    "                G.add_edge(parts[0], parts[1])\n",
    "    return G\n",
    "\n",
    "def draw_graph(graph):\n",
    "    \"\"\"\n",
    "    Draw the graph with matplotlib.\n",
    "    \n",
    "    Args:\n",
    "    graph (networkx.Graph): The NetworkX graph object to draw.\n",
    "    \n",
    "    Returns:\n",
    "    None: This function does not return anything.\n",
    "    \"\"\"\n",
    "    pos = nx.spring_layout(graph)\n",
    "    nx.draw(graph, pos, with_labels=True, node_size=700, node_color='skyblue', edge_color='black', linewidths=1, font_size=10)\n",
    "    plt.show()"
   ]
  },
  {
   "cell_type": "markdown",
   "metadata": {},
   "source": [
    "# Parameter"
   ]
  },
  {
   "cell_type": "code",
   "execution_count": 43,
   "metadata": {},
   "outputs": [],
   "source": [
    "iteration = 30\n",
    "damping_factor = 0.1\n",
    "decay_factor = 0.7"
   ]
  },
  {
   "cell_type": "markdown",
   "metadata": {},
   "source": [
    "# Graph_1"
   ]
  },
  {
   "cell_type": "code",
   "execution_count": 44,
   "metadata": {},
   "outputs": [
    {
     "data": {
      "image/png": "[encoded data removed]",
      "text/plain": [
       "<Figure size 640x480 with 1 Axes>"
      ]
     },
     "metadata": {},
     "output_type": "display_data"
    }
   ],
   "source": [
    "graph_file = '../inputs/graph_1.txt'\n",
    "graph = create_graph_from_file(graph_file)\n",
    "draw_graph(graph)\n",
    "graph = initialize_graph_from_file(graph_file)\n"
   ]
  },
  {
   "cell_type": "markdown",
   "metadata": {},
   "source": [
    "## HITS Algorithm "
   ]
  },
  {
   "cell_type": "code",
   "execution_count": 53,
   "metadata": {},
   "outputs": [
    {
     "name": "stdout",
     "output_type": "stream",
     "text": [
      "Execution time: 0.00037 seconds\n",
      "Authority:\n",
      "[0.000 0.200 0.200 0.200 0.200 0.200]\n",
      "Hub:\n",
      "[0.200 0.200 0.200 0.200 0.200 0.000]\n"
     ]
    }
   ],
   "source": [
    "start_time = time.time()\n",
    "run_hits_algorithm(graph, iteration)\n",
    "end_time = time.time()\n",
    "elapsed_time = end_time - start_time\n",
    "elapsed_time_rounded = round(elapsed_time, 5)\n",
    "print(f\"Execution time: {elapsed_time_rounded} seconds\")\n",
    "\n",
    "auth_list, hub_list = graph.get_authority_hub_lists()\n",
    "\n",
    "# Convert to NumPy arrays\n",
    "auth_array = np.array(auth_list)\n",
    "hub_array = np.array(hub_list)\n",
    "\n",
    "# Print to STDOUT\n",
    "print(\"Authority:\")\n",
    "print(\"[\", end=\"\")\n",
    "print(\" \".join(f\"{value:.3f}\" for value in auth_array), end=\"]\\n\")\n",
    "print(\"Hub:\")\n",
    "print(\"[\", end=\"\")\n",
    "print(\" \".join(f\"{value:.3f}\" for value in hub_array), end=\"]\\n\")"
   ]
  },
  {
   "cell_type": "markdown",
   "metadata": {},
   "source": [
    "## PageRank Algorithm"
   ]
  },
  {
   "cell_type": "code",
   "execution_count": 54,
   "metadata": {},
   "outputs": [
    {
     "name": "stdout",
     "output_type": "stream",
     "text": [
      "Execution time: 0.00282 seconds\n",
      "PageRank:\n",
      "[0.054 0.103 0.147 0.186 0.221 0.253]\n"
     ]
    }
   ],
   "source": [
    "start_time = time.time()\n",
    "page_rank(graph, damping_factor, iteration)\n",
    "end_time = time.time()\n",
    "elapsed_time = end_time - start_time\n",
    "elapsed_time_rounded = round(elapsed_time, 5)\n",
    "print(f\"Execution time: {elapsed_time_rounded} seconds\")\n",
    "pagerank_result = graph.get_pagerank()\n",
    "\n",
    "# Print to STDOUT\n",
    "print(\"PageRank:\")\n",
    "print(\"[\", end=\"\")\n",
    "print(\" \".join(f\"{value:.3f}\" for value in pagerank_result), end=\"]\\n\")"
   ]
  },
  {
   "cell_type": "markdown",
   "metadata": {},
   "source": [
    "## SimRank Algorithm"
   ]
  },
  {
   "cell_type": "code",
   "execution_count": 56,
   "metadata": {},
   "outputs": [
    {
     "name": "stdout",
     "output_type": "stream",
     "text": [
      "Execution time: 0.00409 seconds\n",
      "Decay Factor:\n",
      "0.7\n",
      "SimRank:\n",
      "[[1. 0. 0. 0. 0. 0.]\n",
      " [0. 1. 0. 0. 0. 0.]\n",
      " [0. 0. 1. 0. 0. 0.]\n",
      " [0. 0. 0. 1. 0. 0.]\n",
      " [0. 0. 0. 0. 1. 0.]\n",
      " [0. 0. 0. 0. 0. 1.]]\n"
     ]
    }
   ],
   "source": [
    "# Run the SimRank algorithm\n",
    "start_time = time.time()\n",
    "simrank_result = sim_rank(graph, decay_factor, iteration)\n",
    "end_time = time.time()\n",
    "elapsed_time = end_time - start_time\n",
    "elapsed_time_rounded = round(elapsed_time, 5)\n",
    "print(f\"Execution time: {elapsed_time_rounded} seconds\")\n",
    "\n",
    "# Print to STDOUT\n",
    "print(\"Decay Factor:\")\n",
    "print(decay_factor)\n",
    "print(\"SimRank:\")\n",
    "print(simrank_result)"
   ]
  },
  {
   "cell_type": "markdown",
   "metadata": {},
   "source": [
    "# Graph_2"
   ]
  },
  {
   "cell_type": "code",
   "execution_count": 57,
   "metadata": {},
   "outputs": [
    {
     "data": {
      "image/png": "[encoded data removed]",
      "text/plain": [
       "<Figure size 640x480 with 1 Axes>"
      ]
     },
     "metadata": {},
     "output_type": "display_data"
    }
   ],
   "source": [
    "graph_file = '../inputs/graph_2.txt'\n",
    "graph = create_graph_from_file(graph_file)\n",
    "draw_graph(graph)\n",
    "graph = initialize_graph_from_file(graph_file)"
   ]
  },
  {
   "cell_type": "markdown",
   "metadata": {},
   "source": [
    "## HITS Algorithm "
   ]
  },
  {
   "cell_type": "code",
   "execution_count": 59,
   "metadata": {},
   "outputs": [
    {
     "name": "stdout",
     "output_type": "stream",
     "text": [
      "Execution time: 0.00035 seconds\n",
      "Authority:\n",
      "[0.200 0.200 0.200 0.200 0.200]\n",
      "Hub:\n",
      "[0.200 0.200 0.200 0.200 0.200]\n"
     ]
    }
   ],
   "source": [
    "start_time = time.time()\n",
    "run_hits_algorithm(graph, iteration)\n",
    "end_time = time.time()\n",
    "elapsed_time = end_time - start_time\n",
    "elapsed_time_rounded = round(elapsed_time, 5)\n",
    "auth_list, hub_list = graph.get_authority_hub_lists()\n",
    "print(f\"Execution time: {elapsed_time_rounded} seconds\")\n",
    "\n",
    "# Convert to NumPy arrays\n",
    "auth_array = np.array(auth_list)\n",
    "hub_array = np.array(hub_list)\n",
    "\n",
    "# Print to STDOUT\n",
    "print(\"Authority:\")\n",
    "print(\"[\", end=\"\")\n",
    "print(\" \".join(f\"{value:.3f}\" for value in auth_array), end=\"]\\n\")\n",
    "print(\"Hub:\")\n",
    "print(\"[\", end=\"\")\n",
    "print(\" \".join(f\"{value:.3f}\" for value in hub_array), end=\"]\\n\")"
   ]
  },
  {
   "cell_type": "markdown",
   "metadata": {},
   "source": [
    "## PageRank Algorithm"
   ]
  },
  {
   "cell_type": "code",
   "execution_count": 61,
   "metadata": {},
   "outputs": [
    {
     "name": "stdout",
     "output_type": "stream",
     "text": [
      "Execution time: 0.00329 seconds\n",
      "PageRank:\n",
      "[0.193 0.193 0.193 0.193 0.193]\n"
     ]
    }
   ],
   "source": [
    "start_time = time.time()\n",
    "page_rank(graph, damping_factor, iteration)\n",
    "end_time = time.time()\n",
    "elapsed_time = end_time - start_time\n",
    "elapsed_time_rounded = round(elapsed_time, 5)\n",
    "print(f\"Execution time: {elapsed_time_rounded} seconds\")\n",
    "pagerank_result = graph.get_pagerank()\n",
    "\n",
    "# Print to STDOUT\n",
    "print(\"PageRank:\")\n",
    "print(\"[\", end=\"\")\n",
    "print(\" \".join(f\"{value:.3f}\" for value in pagerank_result), end=\"]\\n\")"
   ]
  },
  {
   "cell_type": "markdown",
   "metadata": {},
   "source": [
    "## SimRank Algorithm"
   ]
  },
  {
   "cell_type": "code",
   "execution_count": 63,
   "metadata": {},
   "outputs": [
    {
     "name": "stdout",
     "output_type": "stream",
     "text": [
      "Execution time: 0.00488 seconds\n",
      "Decay Factor:\n",
      "0.7\n",
      "SimRank:\n",
      "[[1. 0. 0. 0. 0.]\n",
      " [0. 1. 0. 0. 0.]\n",
      " [0. 0. 1. 0. 0.]\n",
      " [0. 0. 0. 1. 0.]\n",
      " [0. 0. 0. 0. 1.]]\n"
     ]
    }
   ],
   "source": [
    "# Run the SimRank algorithm\n",
    "start_time = time.time()\n",
    "simrank_result = sim_rank(graph, decay_factor, iteration)\n",
    "end_time = time.time()\n",
    "elapsed_time = end_time - start_time\n",
    "elapsed_time_rounded = round(elapsed_time, 5)\n",
    "print(f\"Execution time: {elapsed_time_rounded} seconds\")\n",
    "\n",
    "# Print to STDOUT\n",
    "print(\"Decay Factor:\")\n",
    "print(decay_factor)\n",
    "print(\"SimRank:\")\n",
    "print(simrank_result)"
   ]
  },
  {
   "cell_type": "markdown",
   "metadata": {},
   "source": [
    "# Graph_3"
   ]
  },
  {
   "cell_type": "code",
   "execution_count": 64,
   "metadata": {},
   "outputs": [
    {
     "data": {
      "image/png": "[encoded data removed]",
      "text/plain": [
       "<Figure size 640x480 with 1 Axes>"
      ]
     },
     "metadata": {},
     "output_type": "display_data"
    }
   ],
   "source": [
    "graph_file = '../inputs/graph_3.txt'\n",
    "graph = create_graph_from_file(graph_file)\n",
    "draw_graph(graph)\n",
    "graph = initialize_graph_from_file(graph_file)"
   ]
  },
  {
   "cell_type": "markdown",
   "metadata": {},
   "source": [
    "## HITS Algorithm "
   ]
  },
  {
   "cell_type": "code",
   "execution_count": 66,
   "metadata": {},
   "outputs": [
    {
     "name": "stdout",
     "output_type": "stream",
     "text": [
      "Execution time: 0.00029 seconds\n",
      "Authority:\n",
      "[0.191 0.309 0.309 0.191]\n",
      "Hub:\n",
      "[0.191 0.309 0.309 0.191]\n"
     ]
    }
   ],
   "source": [
    "start_time = time.time()\n",
    "run_hits_algorithm(graph, iteration)\n",
    "end_time = time.time()\n",
    "elapsed_time = end_time - start_time\n",
    "elapsed_time_rounded = round(elapsed_time, 5)\n",
    "print(f\"Execution time: {elapsed_time_rounded} seconds\")\n",
    "\n",
    "auth_list, hub_list = graph.get_authority_hub_lists()\n",
    "\n",
    "# Convert to NumPy arrays\n",
    "auth_array = np.array(auth_list)\n",
    "hub_array = np.array(hub_list)\n",
    "\n",
    "# Print to STDOUT\n",
    "print(\"Authority:\")\n",
    "print(\"[\", end=\"\")\n",
    "print(\" \".join(f\"{value:.3f}\" for value in auth_array), end=\"]\\n\")\n",
    "print(\"Hub:\")\n",
    "print(\"[\", end=\"\")\n",
    "print(\" \".join(f\"{value:.3f}\" for value in hub_array), end=\"]\\n\")"
   ]
  },
  {
   "cell_type": "markdown",
   "metadata": {},
   "source": [
    "## PageRank Algorithm"
   ]
  },
  {
   "cell_type": "code",
   "execution_count": 68,
   "metadata": {},
   "outputs": [
    {
     "name": "stdout",
     "output_type": "stream",
     "text": [
      "Execution time: 0.00272 seconds\n",
      "PageRank:\n",
      "[0.167 0.317 0.317 0.167]\n"
     ]
    }
   ],
   "source": [
    "start_time = time.time()\n",
    "page_rank(graph, damping_factor, iteration)\n",
    "end_time = time.time()\n",
    "elapsed_time = end_time - start_time\n",
    "elapsed_time_rounded = round(elapsed_time, 5)\n",
    "print(f\"Execution time: {elapsed_time_rounded} seconds\")\n",
    "pagerank_result = graph.get_pagerank()\n",
    "\n",
    "# Print to STDOUT\n",
    "print(\"PageRank:\")\n",
    "print(\"[\", end=\"\")\n",
    "print(\" \".join(f\"{value:.3f}\" for value in pagerank_result), end=\"]\\n\")"
   ]
  },
  {
   "cell_type": "markdown",
   "metadata": {},
   "source": [
    "## SimRank Algorithm"
   ]
  },
  {
   "cell_type": "code",
   "execution_count": 70,
   "metadata": {},
   "outputs": [
    {
     "name": "stdout",
     "output_type": "stream",
     "text": [
      "Execution time: 0.00223 seconds\n",
      "Decay Factor:\n",
      "0.7\n",
      "SimRank:\n",
      "[[1.    0.    0.538 0.   ]\n",
      " [0.    1.    0.    0.538]\n",
      " [0.538 0.    1.    0.   ]\n",
      " [0.    0.538 0.    1.   ]]\n"
     ]
    }
   ],
   "source": [
    "# Run the SimRank algorithm\n",
    "start_time = time.time()\n",
    "simrank_result = sim_rank(graph, decay_factor, iteration)\n",
    "end_time = time.time()\n",
    "elapsed_time = end_time - start_time\n",
    "elapsed_time_rounded = round(elapsed_time, 5)\n",
    "print(f\"Execution time: {elapsed_time_rounded} seconds\")\n",
    "\n",
    "# Print to STDOUT\n",
    "print(\"Decay Factor:\")\n",
    "print(decay_factor)\n",
    "print(\"SimRank:\")\n",
    "print(simrank_result)"
   ]
  },
  {
   "cell_type": "markdown",
   "metadata": {},
   "source": [
    "# Graph_4"
   ]
  },
  {
   "cell_type": "code",
   "execution_count": 71,
   "metadata": {},
   "outputs": [
    {
     "data": {
      "image/png": "[encoded data removed]",
      "text/plain": [
       "<Figure size 640x480 with 1 Axes>"
      ]
     },
     "metadata": {},
     "output_type": "display_data"
    }
   ],
   "source": [
    "graph_file = '../inputs/graph_4.txt'\n",
    "graph = create_graph_from_file(graph_file)\n",
    "draw_graph(graph)\n",
    "graph = initialize_graph_from_file(graph_file)"
   ]
  },
  {
   "cell_type": "markdown",
   "metadata": {},
   "source": [
    "## HITS Algorithm "
   ]
  },
  {
   "cell_type": "code",
   "execution_count": 73,
   "metadata": {},
   "outputs": [
    {
     "name": "stdout",
     "output_type": "stream",
     "text": [
      "Execution time: 0.00034 seconds\n",
      "Authority:\n",
      "[0.139 0.178 0.201 0.140 0.201 0.056 0.084]\n",
      "Hub:\n",
      "[0.275 0.048 0.109 0.199 0.184 0.117 0.069]\n"
     ]
    }
   ],
   "source": [
    "start_time = time.time()\n",
    "run_hits_algorithm(graph, iteration)\n",
    "end_time = time.time()\n",
    "elapsed_time = end_time - start_time\n",
    "elapsed_time_rounded = round(elapsed_time, 5)\n",
    "print(f\"Execution time: {elapsed_time_rounded} seconds\")\n",
    "\n",
    "auth_list, hub_list = graph.get_authority_hub_lists()\n",
    "\n",
    "# Convert to NumPy arrays\n",
    "auth_array = np.array(auth_list)\n",
    "hub_array = np.array(hub_list)\n",
    "\n",
    "# Print to STDOUT\n",
    "print(\"Authority:\")\n",
    "print(\"[\", end=\"\")\n",
    "print(\" \".join(f\"{value:.3f}\" for value in auth_array), end=\"]\\n\")\n",
    "print(\"Hub:\")\n",
    "print(\"[\", end=\"\")\n",
    "print(\" \".join(f\"{value:.3f}\" for value in hub_array), end=\"]\\n\")"
   ]
  },
  {
   "cell_type": "markdown",
   "metadata": {},
   "source": [
    "## PageRank Algorithm"
   ]
  },
  {
   "cell_type": "code",
   "execution_count": 75,
   "metadata": {},
   "outputs": [
    {
     "name": "stdout",
     "output_type": "stream",
     "text": [
      "Execution time: 0.00203 seconds\n",
      "PageRank:\n",
      "[0.277 0.155 0.134 0.103 0.176 0.054 0.064]\n"
     ]
    }
   ],
   "source": [
    "start_time = time.time()\n",
    "page_rank(graph, damping_factor, iteration)\n",
    "end_time = time.time()\n",
    "elapsed_time = end_time - start_time\n",
    "elapsed_time_rounded = round(elapsed_time, 5)\n",
    "print(f\"Execution time: {elapsed_time_rounded} seconds\")\n",
    "pagerank_result = graph.get_pagerank()\n",
    "\n",
    "# Print to STDOUT\n",
    "print(\"PageRank:\")\n",
    "print(\"[\", end=\"\")\n",
    "print(\" \".join(f\"{value:.3f}\" for value in pagerank_result), end=\"]\\n\")"
   ]
  },
  {
   "cell_type": "markdown",
   "metadata": {},
   "source": [
    "## SimRank Algorithm"
   ]
  },
  {
   "cell_type": "code",
   "execution_count": 77,
   "metadata": {},
   "outputs": [
    {
     "name": "stdout",
     "output_type": "stream",
     "text": [
      "Execution time: 0.00982 seconds\n",
      "Decay Factor:\n",
      "0.7\n",
      "SimRank:\n",
      "[[1.    0.243 0.232 0.239 0.221 0.303 0.175]\n",
      " [0.243 1.    0.294 0.256 0.295 0.169 0.343]\n",
      " [0.232 0.294 1.    0.34  0.275 0.339 0.341]\n",
      " [0.239 0.256 0.34  1.    0.23  0.427 0.427]\n",
      " [0.221 0.295 0.275 0.23  1.    0.159 0.3  ]\n",
      " [0.303 0.169 0.339 0.427 0.159 1.    0.155]\n",
      " [0.175 0.343 0.341 0.427 0.3   0.155 1.   ]]\n"
     ]
    }
   ],
   "source": [
    "# Run the SimRank algorithm\n",
    "start_time = time.time()\n",
    "simrank_result = sim_rank(graph, decay_factor, iteration)\n",
    "end_time = time.time()\n",
    "elapsed_time = end_time - start_time\n",
    "elapsed_time_rounded = round(elapsed_time, 5)\n",
    "print(f\"Execution time: {elapsed_time_rounded} seconds\")\n",
    "\n",
    "# Print to STDOUT\n",
    "print(\"Decay Factor:\")\n",
    "print(decay_factor)\n",
    "print(\"SimRank:\")\n",
    "print(simrank_result)"
   ]
  },
  {
   "cell_type": "markdown",
   "metadata": {},
   "source": [
    "# Graph_5"
   ]
  },
  {
   "cell_type": "code",
   "execution_count": 78,
   "metadata": {},
   "outputs": [],
   "source": [
    "graph_file = '../inputs/graph_5.txt'\n",
    "graph = initialize_graph_from_file(graph_file)"
   ]
  },
  {
   "cell_type": "markdown",
   "metadata": {},
   "source": [
    "## HITS Algorithm "
   ]
  },
  {
   "cell_type": "code",
   "execution_count": 85,
   "metadata": {},
   "outputs": [
    {
     "name": "stdout",
     "output_type": "stream",
     "text": [
      "Execution time: 0.01939 seconds\n",
      "Authority:\n",
      "[0.000 0.000 0.000 0.000 0.000 0.000 0.000 0.000 0.000 0.000 0.000 0.000 0.000 0.000 0.000 0.001 0.000 0.005 0.000 0.000 0.000 0.000 0.000 0.000 0.003 0.000 0.000 0.000 0.000 0.000 0.000 0.000 0.000 0.000 0.000 0.001 0.002 0.003 0.000 0.000 0.000 0.000 0.000 0.000 0.000 0.000 0.000 0.003 0.001 0.005 0.001 0.000 0.000 0.001 0.009 0.002 0.000 0.003 0.000 0.000 0.096 0.000 0.000 0.000 0.000 0.000 0.000 0.002 0.000 0.000 0.000 0.000 0.000 0.000 0.003 0.000 0.000 0.003 0.002 0.000 0.009 0.000 0.000 0.000 0.004 0.000 0.000 0.006 0.000 0.000 0.000 0.000 0.000 0.000 0.003 0.000 0.000 0.000 0.000 0.000 0.000 0.001 0.002 0.056 0.000 0.000 0.000 0.000 0.000 0.000 0.000 0.003 0.000 0.000 0.003 0.000 0.000 0.003 0.000 0.000 0.000 0.094 0.001 0.000 0.003 0.000 0.000 0.001 0.000 0.004 0.000 0.000 0.007 0.028 0.001 0.000 0.000 0.000 0.000 0.000 0.010 0.002 0.000 0.000 0.002 0.000 0.001 0.038 0.000 0.001 0.001 0.000 0.000 0.015 0.003 0.002 0.000 0.000 0.002 0.013 0.000 0.000 0.000 0.010 0.001 0.000 0.000 0.000 0.000 0.000 0.001 0.000 0.000 0.007 0.001 0.003 0.000 0.003 0.003 0.000 0.003 0.003 0.000 0.007 0.049 0.003 0.000 0.000 0.000 0.000 0.000 0.000 0.007 0.002 0.000 0.000 0.000 0.003 0.000 0.000 0.000 0.000 0.002 0.000 0.000 0.000 0.000 0.001 0.002 0.000 0.000 0.058 0.003 0.001 0.000 0.012 0.000 0.000 0.000 0.003 0.000 0.000 0.000 0.005 0.000 0.000 0.000 0.000 0.002 0.000 0.001 0.000 0.001 0.002 0.000 0.002 0.000 0.000 0.000 0.000 0.000 0.000 0.000 0.000 0.000 0.000 0.002 0.000 0.004 0.001 0.002 0.000 0.000 0.003 0.000 0.000 0.000 0.000 0.000 0.000 0.002 0.000 0.000 0.000 0.000 0.002 0.000 0.002 0.000 0.000 0.000 0.000 0.000 0.002 0.001 0.000 0.000 0.010 0.000 0.003 0.000 0.050 0.003 0.002 0.002 0.000 0.000 0.002 0.000 0.000 0.000 0.000 0.003 0.000 0.000 0.000 0.007 0.000 0.007 0.000 0.000 0.000 0.004 0.000 0.000 0.000 0.000 0.000 0.000 0.001 0.001 0.000 0.001 0.002 0.009 0.000 0.001 0.000 0.000 0.003 0.000 0.000 0.000 0.000 0.042 0.015 0.000 0.000 0.003 0.000 0.000 0.000 0.000 0.000 0.000 0.000 0.002 0.000 0.000 0.000 0.000 0.000 0.005 0.000 0.000 0.000 0.000 0.043 0.000 0.000 0.000 0.000 0.003 0.000 0.000 0.000 0.000 0.000 0.002 0.000 0.000 0.000 0.000 0.000 0.000 0.000 0.000 0.000 0.000 0.000 0.003 0.000 0.000 0.001 0.001 0.000 0.000 0.000 0.000 0.000 0.015 0.000 0.000 0.000 0.000 0.000 0.000 0.000 0.000 0.000 0.001 0.000 0.000 0.000 0.000 0.000 0.000 0.000 0.000 0.000 0.000 0.000 0.000 0.011 0.000 0.000 0.000 0.000 0.000 0.001 0.000 0.008 0.000 0.000 0.008 0.002 0.000 0.000 0.000 0.000 0.000 0.000 0.000 0.000 0.002 0.005 0.000 0.001 0.003 0.000 0.000 0.000 0.000 0.003 0.000 0.000 0.000 0.000 0.000 0.002 0.000 0.000 0.002 0.000 0.000 0.000 0.000 0.000 0.000 0.003 0.005 0.000 0.000 0.000 0.003 0.003 0.000 0.003 0.000 0.001 0.000 0.000 0.000 0.000 0.000 0.000 0.000 0.000 0.000]\n",
      "Hub:\n",
      "[0.000 0.000 0.000 0.000 0.000 0.000 0.000 0.000 0.000 0.000 0.000 0.000 0.000 0.000 0.000 0.000 0.000 0.000 0.000 0.000 0.000 0.000 0.000 0.000 0.000 0.000 0.000 0.000 0.000 0.000 0.000 0.000 0.000 0.000 0.000 0.000 0.025 0.020 0.000 0.000 0.000 0.000 0.000 0.000 0.000 0.000 0.000 0.000 0.000 0.000 0.000 0.000 0.000 0.000 0.000 0.017 0.000 0.019 0.000 0.000 0.000 0.000 0.000 0.000 0.000 0.000 0.000 0.000 0.000 0.000 0.000 0.000 0.000 0.000 0.000 0.000 0.000 0.000 0.000 0.000 0.016 0.000 0.000 0.000 0.016 0.000 0.000 0.000 0.000 0.000 0.000 0.000 0.000 0.000 0.020 0.000 0.000 0.000 0.000 0.000 0.000 0.000 0.015 0.000 0.000 0.000 0.000 0.000 0.000 0.000 0.000 0.000 0.000 0.000 0.025 0.000 0.000 0.000 0.000 0.000 0.000 0.000 0.000 0.000 0.000 0.000 0.000 0.000 0.000 0.014 0.000 0.000 0.000 0.021 0.000 0.000 0.000 0.000 0.000 0.000 0.014 0.000 0.000 0.000 0.000 0.000 0.000 0.015 0.000 0.000 0.000 0.000 0.000 0.000 0.000 0.000 0.000 0.000 0.000 0.000 0.000 0.000 0.000 0.000 0.000 0.000 0.000 0.000 0.000 0.000 0.000 0.000 0.000 0.016 0.000 0.028 0.000 0.000 0.022 0.000 0.000 0.025 0.000 0.018 0.021 0.023 0.000 0.000 0.000 0.000 0.000 0.000 0.000 0.000 0.000 0.000 0.000 0.000 0.000 0.000 0.000 0.000 0.000 0.000 0.000 0.000 0.000 0.000 0.000 0.000 0.000 0.021 0.000 0.000 0.000 0.000 0.000 0.000 0.000 0.000 0.000 0.000 0.000 0.023 0.000 0.000 0.000 0.000 0.000 0.000 0.000 0.000 0.000 0.000 0.000 0.020 0.000 0.000 0.000 0.000 0.000 0.000 0.000 0.000 0.000 0.000 0.000 0.000 0.015 0.000 0.000 0.000 0.000 0.026 0.000 0.000 0.000 0.000 0.000 0.000 0.015 0.000 0.000 0.000 0.000 0.000 0.000 0.000 0.000 0.000 0.000 0.000 0.000 0.028 0.000 0.000 0.000 0.000 0.000 0.000 0.000 0.000 0.022 0.016 0.024 0.000 0.000 0.000 0.000 0.000 0.000 0.000 0.026 0.000 0.000 0.000 0.024 0.000 0.024 0.000 0.000 0.000 0.017 0.000 0.000 0.000 0.000 0.000 0.000 0.000 0.000 0.000 0.000 0.000 0.018 0.000 0.000 0.000 0.000 0.000 0.000 0.000 0.000 0.000 0.026 0.024 0.000 0.000 0.000 0.000 0.000 0.000 0.000 0.000 0.000 0.000 0.000 0.000 0.000 0.000 0.000 0.000 0.000 0.000 0.000 0.000 0.000 0.022 0.000 0.000 0.000 0.000 0.000 0.000 0.000 0.000 0.000 0.000 0.000 0.000 0.000 0.000 0.000 0.000 0.000 0.000 0.000 0.000 0.000 0.000 0.022 0.000 0.000 0.000 0.000 0.000 0.000 0.000 0.000 0.000 0.014 0.000 0.000 0.000 0.000 0.000 0.000 0.000 0.000 0.000 0.000 0.000 0.000 0.000 0.000 0.000 0.000 0.000 0.000 0.000 0.000 0.000 0.000 0.000 0.000 0.000 0.000 0.000 0.000 0.000 0.000 0.027 0.000 0.000 0.000 0.024 0.000 0.000 0.000 0.000 0.000 0.000 0.000 0.000 0.000 0.022 0.000 0.000 0.000 0.000 0.000 0.000 0.000 0.000 0.000 0.000 0.000 0.000 0.000 0.023 0.000 0.000 0.019 0.000 0.000 0.000 0.000 0.000 0.000 0.025 0.000 0.000 0.000 0.000 0.000 0.024 0.000 0.017 0.000 0.000 0.000 0.000 0.000 0.000 0.000 0.000 0.000 0.000 0.000]\n"
     ]
    }
   ],
   "source": [
    "start_time = time.time()\n",
    "run_hits_algorithm(graph, iteration)\n",
    "end_time = time.time()\n",
    "elapsed_time = end_time - start_time\n",
    "elapsed_time_rounded = round(elapsed_time, 5)\n",
    "print(f\"Execution time: {elapsed_time_rounded} seconds\")\n",
    "\n",
    "auth_list, hub_list = graph.get_authority_hub_lists()\n",
    "\n",
    "# Convert to NumPy arrays\n",
    "auth_array = np.array(auth_list)\n",
    "hub_array = np.array(hub_list)\n",
    "\n",
    "# Print to STDOUT\n",
    "print(\"Authority:\")\n",
    "print(\"[\", end=\"\")\n",
    "print(\" \".join(f\"{value:.3f}\" for value in auth_array), end=\"]\\n\")\n",
    "print(\"Hub:\")\n",
    "print(\"[\", end=\"\")\n",
    "print(\" \".join(f\"{value:.3f}\" for value in hub_array), end=\"]\\n\")"
   ]
  },
  {
   "cell_type": "markdown",
   "metadata": {},
   "source": [
    "## PageRank Algorithm"
   ]
  },
  {
   "cell_type": "code",
   "execution_count": 84,
   "metadata": {},
   "outputs": [
    {
     "name": "stdout",
     "output_type": "stream",
     "text": [
      "Execution time: 0.11647 seconds\n",
      "PageRank:\n",
      "[0.002 0.002 0.002 0.002 0.002 0.002 0.002 0.002 0.002 0.002 0.002 0.002 0.002 0.002 0.002 0.002 0.002 0.002 0.002 0.002 0.004 0.004 0.002 0.004 0.002 0.002 0.002 0.002 0.002 0.002 0.002 0.002 0.002 0.002 0.003 0.002 0.002 0.002 0.002 0.004 0.002 0.002 0.004 0.005 0.002 0.003 0.002 0.002 0.002 0.002 0.002 0.002 0.002 0.002 0.002 0.002 0.002 0.002 0.002 0.002 0.015 0.002 0.002 0.002 0.002 0.002 0.002 0.002 0.002 0.003 0.002 0.002 0.002 0.002 0.002 0.002 0.002 0.002 0.002 0.002 0.002 0.002 0.002 0.002 0.002 0.002 0.002 0.002 0.002 0.002 0.002 0.003 0.002 0.004 0.002 0.006 0.002 0.002 0.002 0.002 0.002 0.002 0.002 0.010 0.003 0.002 0.002 0.002 0.002 0.002 0.002 0.002 0.002 0.002 0.002 0.002 0.002 0.002 0.002 0.002 0.002 0.014 0.002 0.002 0.002 0.002 0.002 0.002 0.002 0.003 0.002 0.002 0.002 0.005 0.002 0.002 0.002 0.002 0.002 0.002 0.003 0.002 0.002 0.002 0.002 0.002 0.002 0.006 0.002 0.002 0.002 0.004 0.002 0.002 0.002 0.002 0.002 0.002 0.002 0.002 0.002 0.002 0.002 0.002 0.002 0.002 0.003 0.002 0.002 0.002 0.002 0.002 0.002 0.002 0.002 0.002 0.002 0.002 0.002 0.002 0.002 0.002 0.002 0.002 0.007 0.002 0.003 0.002 0.003 0.002 0.002 0.002 0.002 0.002 0.002 0.002 0.002 0.002 0.002 0.002 0.002 0.003 0.002 0.004 0.002 0.002 0.002 0.002 0.002 0.002 0.002 0.008 0.002 0.002 0.002 0.003 0.002 0.002 0.002 0.002 0.002 0.002 0.002 0.002 0.002 0.002 0.002 0.002 0.002 0.002 0.002 0.002 0.002 0.002 0.002 0.002 0.002 0.002 0.002 0.002 0.002 0.002 0.002 0.002 0.002 0.002 0.002 0.002 0.003 0.002 0.002 0.002 0.002 0.002 0.002 0.002 0.002 0.002 0.002 0.002 0.002 0.002 0.002 0.004 0.003 0.002 0.002 0.002 0.002 0.002 0.002 0.002 0.003 0.002 0.002 0.002 0.004 0.002 0.002 0.002 0.002 0.007 0.002 0.002 0.002 0.002 0.004 0.002 0.002 0.002 0.003 0.002 0.002 0.002 0.002 0.002 0.002 0.002 0.002 0.003 0.003 0.002 0.002 0.002 0.002 0.002 0.003 0.002 0.002 0.002 0.002 0.002 0.002 0.002 0.002 0.002 0.002 0.002 0.002 0.002 0.002 0.002 0.002 0.002 0.007 0.003 0.004 0.002 0.002 0.002 0.003 0.002 0.002 0.002 0.002 0.002 0.002 0.002 0.002 0.002 0.002 0.002 0.002 0.002 0.002 0.002 0.002 0.007 0.002 0.002 0.002 0.002 0.002 0.002 0.002 0.002 0.002 0.002 0.002 0.002 0.002 0.002 0.004 0.002 0.002 0.002 0.002 0.002 0.002 0.002 0.002 0.003 0.002 0.002 0.002 0.002 0.002 0.002 0.002 0.002 0.003 0.002 0.002 0.002 0.002 0.004 0.002 0.002 0.002 0.002 0.002 0.002 0.002 0.002 0.002 0.002 0.002 0.002 0.002 0.002 0.002 0.002 0.002 0.003 0.002 0.002 0.002 0.002 0.002 0.002 0.002 0.002 0.003 0.002 0.002 0.002 0.002 0.002 0.002 0.002 0.002 0.002 0.002 0.002 0.002 0.002 0.002 0.002 0.002 0.002 0.002 0.002 0.004 0.002 0.002 0.003 0.002 0.002 0.003 0.002 0.002 0.002 0.002 0.003 0.002 0.002 0.002 0.002 0.002 0.002 0.002 0.002 0.002 0.004 0.002 0.002 0.003 0.002 0.002 0.002 0.002 0.002 0.002 0.002 0.002 0.002 0.002 0.003 0.002]\n"
     ]
    }
   ],
   "source": [
    "start_time = time.time()\n",
    "page_rank(graph, damping_factor, iteration)\n",
    "end_time = time.time()\n",
    "elapsed_time = end_time - start_time\n",
    "elapsed_time_rounded = round(elapsed_time, 5)\n",
    "print(f\"Execution time: {elapsed_time_rounded} seconds\")\n",
    "pagerank_result = graph.get_pagerank()\n",
    "\n",
    "# Print to STDOUT\n",
    "print(\"PageRank:\")\n",
    "print(\"[\", end=\"\")\n",
    "print(\" \".join(f\"{value:.3f}\" for value in pagerank_result), end=\"]\\n\")"
   ]
  },
  {
   "cell_type": "markdown",
   "metadata": {},
   "source": [
    "## SimRank Algorithm"
   ]
  },
  {
   "cell_type": "code",
   "execution_count": 83,
   "metadata": {},
   "outputs": [
    {
     "name": "stdout",
     "output_type": "stream",
     "text": [
      "Execution time: 35.6459 seconds\n",
      "Decay Factor:\n",
      "0.7\n",
      "SimRank:\n",
      "[[1. 0. 0. ... 0. 0. 0.]\n",
      " [0. 1. 0. ... 0. 0. 0.]\n",
      " [0. 0. 1. ... 0. 0. 0.]\n",
      " ...\n",
      " [0. 0. 0. ... 1. 0. 0.]\n",
      " [0. 0. 0. ... 0. 1. 0.]\n",
      " [0. 0. 0. ... 0. 0. 1.]]\n"
     ]
    }
   ],
   "source": [
    "# Run the SimRank algorithm\n",
    "start_time = time.time()\n",
    "simrank_result = sim_rank(graph, decay_factor, iteration)\n",
    "end_time = time.time()\n",
    "elapsed_time = end_time - start_time\n",
    "elapsed_time_rounded = round(elapsed_time, 5)\n",
    "print(f\"Execution time: {elapsed_time_rounded} seconds\")\n",
    "\n",
    "# Print to STDOUT\n",
    "print(\"Decay Factor:\")\n",
    "print(decay_factor)\n",
    "print(\"SimRank:\")\n",
    "print(simrank_result)"
   ]
  },
  {
   "cell_type": "markdown",
   "metadata": {},
   "source": [
    "# Graph_6"
   ]
  },
  {
   "cell_type": "code",
   "execution_count": 86,
   "metadata": {},
   "outputs": [],
   "source": [
    "graph_file = '../inputs/graph_6.txt'\n",
    "graph = initialize_graph_from_file(graph_file)"
   ]
  },
  {
   "cell_type": "markdown",
   "metadata": {},
   "source": [
    "## HITS Algorithm"
   ]
  },
  {
   "cell_type": "code",
   "execution_count": 90,
   "metadata": {},
   "outputs": [
    {
     "name": "stdout",
     "output_type": "stream",
     "text": [
      "Execution time: 0.05233 seconds\n",
      "Authority:\n",
      "[0.000 0.001 0.000 0.000 0.000 0.001 0.000 0.001 0.002 0.001 0.000 0.000 0.000 0.000 0.000 0.000 0.001 0.000 0.000 0.000 0.000 0.000 0.000 0.000 0.003 0.000 0.000 0.000 0.000 0.000 0.000 0.000 0.000 0.000 0.000 0.000 0.000 0.000 0.000 0.000 0.002 0.000 0.005 0.001 0.000 0.000 0.001 0.000 0.000 0.001 0.000 0.000 0.000 0.000 0.001 0.000 0.001 0.000 0.001 0.000 0.000 0.030 0.000 0.000 0.000 0.000 0.000 0.003 0.002 0.000 0.000 0.000 0.000 0.001 0.000 0.000 0.000 0.030 0.002 0.001 0.002 0.000 0.000 0.000 0.000 0.001 0.000 0.001 0.000 0.000 0.001 0.000 0.000 0.000 0.003 0.000 0.000 0.000 0.001 0.000 0.001 0.000 0.000 0.000 0.000 0.001 0.000 0.000 0.001 0.000 0.000 0.000 0.000 0.000 0.000 0.000 0.000 0.000 0.000 0.000 0.000 0.000 0.000 0.000 0.000 0.000 0.000 0.000 0.000 0.000 0.000 0.000 0.001 0.013 0.001 0.000 0.003 0.000 0.005 0.001 0.000 0.003 0.001 0.000 0.000 0.000 0.000 0.000 0.000 0.000 0.001 0.000 0.000 0.001 0.000 0.001 0.000 0.000 0.000 0.002 0.000 0.000 0.000 0.000 0.000 0.001 0.001 0.000 0.000 0.000 0.005 0.000 0.000 0.000 0.000 0.000 0.000 0.000 0.000 0.024 0.000 0.000 0.000 0.000 0.000 0.001 0.001 0.000 0.000 0.000 0.000 0.000 0.000 0.001 0.000 0.000 0.000 0.000 0.001 0.000 0.000 0.002 0.002 0.000 0.001 0.000 0.000 0.000 0.000 0.000 0.001 0.000 0.000 0.001 0.000 0.000 0.000 0.001 0.000 0.004 0.001 0.000 0.001 0.000 0.013 0.000 0.000 0.001 0.000 0.000 0.000 0.001 0.000 0.000 0.000 0.000 0.000 0.000 0.000 0.000 0.000 0.000 0.000 0.000 0.000 0.000 0.000 0.000 0.000 0.002 0.000 0.000 0.000 0.002 0.000 0.000 0.000 0.000 0.001 0.001 0.000 0.000 0.000 0.000 0.000 0.001 0.000 0.000 0.000 0.001 0.000 0.000 0.004 0.000 0.000 0.000 0.003 0.001 0.000 0.000 0.000 0.000 0.001 0.000 0.000 0.000 0.000 0.000 0.001 0.000 0.000 0.000 0.000 0.000 0.000 0.000 0.001 0.003 0.000 0.000 0.000 0.000 0.000 0.000 0.000 0.000 0.000 0.001 0.001 0.000 0.000 0.002 0.000 0.000 0.000 0.000 0.001 0.000 0.001 0.000 0.000 0.000 0.000 0.001 0.000 0.000 0.000 0.000 0.001 0.000 0.002 0.000 0.000 0.000 0.000 0.001 0.003 0.000 0.000 0.000 0.000 0.000 0.000 0.000 0.000 0.000 0.000 0.001 0.000 0.001 0.000 0.001 0.000 0.001 0.000 0.001 0.017 0.000 0.000 0.000 0.001 0.002 0.000 0.001 0.000 0.001 0.004 0.001 0.001 0.011 0.000 0.000 0.001 0.005 0.000 0.000 0.000 0.001 0.000 0.000 0.000 0.001 0.000 0.001 0.000 0.013 0.005 0.000 0.000 0.000 0.000 0.000 0.000 0.029 0.001 0.000 0.001 0.000 0.000 0.000 0.000 0.000 0.000 0.000 0.000 0.001 0.000 0.000 0.000 0.005 0.000 0.000 0.000 0.000 0.005 0.000 0.000 0.000 0.000 0.000 0.000 0.000 0.000 0.002 0.000 0.000 0.000 0.000 0.000 0.000 0.000 0.001 0.000 0.000 0.000 0.001 0.001 0.001 0.002 0.001 0.000 0.000 0.000 0.000 0.000 0.000 0.001 0.002 0.001 0.000 0.000 0.001 0.000 0.001 0.000 0.000 0.000 0.000 0.002 0.000 0.000 0.003 0.002 0.000 0.000 0.000 0.001 0.004 0.000 0.000 0.000 0.000 0.002 0.000 0.000 0.000 0.001 0.000 0.002 0.000 0.000 0.000 0.002 0.001 0.000 0.001 0.000 0.000 0.000 0.000 0.000 0.001 0.000 0.004 0.000 0.001 0.000 0.000 0.000 0.001 0.025 0.000 0.000 0.000 0.000 0.019 0.000 0.001 0.000 0.000 0.000 0.000 0.000 0.000 0.000 0.000 0.001 0.000 0.000 0.000 0.010 0.000 0.001 0.000 0.000 0.000 0.002 0.017 0.000 0.000 0.001 0.001 0.000 0.000 0.000 0.000 0.000 0.007 0.001 0.002 0.000 0.000 0.000 0.000 0.000 0.000 0.000 0.000 0.000 0.000 0.000 0.001 0.000 0.005 0.000 0.001 0.001 0.000 0.000 0.001 0.000 0.000 0.000 0.000 0.000 0.000 0.000 0.000 0.000 0.000 0.001 0.001 0.000 0.000 0.000 0.000 0.000 0.004 0.000 0.001 0.002 0.000 0.000 0.000 0.001 0.000 0.000 0.000 0.000 0.000 0.000 0.001 0.001 0.004 0.000 0.001 0.000 0.003 0.000 0.000 0.001 0.000 0.000 0.000 0.000 0.002 0.000 0.000 0.002 0.001 0.001 0.000 0.000 0.000 0.000 0.000 0.000 0.000 0.000 0.000 0.001 0.002 0.000 0.000 0.000 0.000 0.000 0.000 0.000 0.000 0.000 0.000 0.000 0.000 0.002 0.000 0.000 0.000 0.000 0.003 0.003 0.001 0.000 0.000 0.000 0.000 0.000 0.000 0.002 0.000 0.000 0.000 0.000 0.000 0.000 0.000 0.000 0.000 0.001 0.001 0.000 0.004 0.000 0.000 0.000 0.000 0.000 0.000 0.000 0.000 0.000 0.000 0.000 0.000 0.001 0.000 0.000 0.000 0.000 0.000 0.000 0.000 0.004 0.001 0.000 0.001 0.001 0.000 0.000 0.000 0.000 0.000 0.000 0.000 0.002 0.000 0.000 0.001 0.000 0.001 0.000 0.000 0.001 0.000 0.000 0.000 0.000 0.000 0.000 0.000 0.000 0.000 0.000 0.000 0.000 0.000 0.000 0.000 0.000 0.000 0.000 0.000 0.000 0.001 0.001 0.000 0.001 0.000 0.000 0.000 0.000 0.000 0.001 0.000 0.000 0.000 0.000 0.000 0.001 0.000 0.002 0.000 0.000 0.000 0.000 0.000 0.000 0.001 0.001 0.000 0.000 0.000 0.000 0.000 0.000 0.000 0.000 0.000 0.000 0.000 0.030 0.000 0.000 0.000 0.000 0.001 0.000 0.000 0.000 0.000 0.000 0.000 0.000 0.000 0.000 0.001 0.000 0.000 0.000 0.000 0.000 0.000 0.000 0.000 0.000 0.000 0.000 0.000 0.000 0.000 0.000 0.000 0.002 0.000 0.000 0.001 0.002 0.000 0.000 0.000 0.000 0.000 0.001 0.000 0.000 0.000 0.000 0.000 0.000 0.000 0.000 0.001 0.000 0.001 0.002 0.000 0.000 0.000 0.020 0.000 0.000 0.000 0.000 0.000 0.000 0.000 0.000 0.000 0.001 0.000 0.000 0.000 0.001 0.000 0.002 0.000 0.000 0.000 0.000 0.000 0.000 0.000 0.000 0.000 0.000 0.001 0.001 0.004 0.000 0.000 0.001 0.000 0.000 0.000 0.000 0.002 0.001 0.000 0.000 0.000 0.000 0.000 0.029 0.000 0.000 0.000 0.003 0.000 0.000 0.001 0.000 0.001 0.000 0.001 0.000 0.000 0.000 0.000 0.001 0.000 0.000 0.000 0.000 0.000 0.000 0.000 0.000 0.000 0.000 0.000 0.000 0.001 0.000 0.000 0.000 0.001 0.002 0.000 0.000 0.000 0.000 0.000 0.000 0.000 0.001 0.000 0.000 0.000 0.001 0.000 0.000 0.000 0.000 0.001 0.000 0.000 0.001 0.000 0.000 0.001 0.000 0.000 0.000 0.000 0.000 0.000 0.000 0.000 0.002 0.001 0.013 0.000 0.000 0.000 0.000 0.004 0.000 0.001 0.002 0.000 0.000 0.000 0.000 0.001 0.000 0.005 0.000 0.000 0.000 0.000 0.000 0.000 0.001 0.000 0.003 0.000 0.000 0.000 0.000 0.000 0.000 0.000 0.000 0.000 0.000 0.000 0.000 0.000 0.005 0.000 0.000 0.000 0.000 0.000 0.000 0.000 0.000 0.000 0.000 0.000 0.000 0.000 0.000 0.000 0.000 0.000 0.001 0.000 0.000 0.000 0.000 0.000 0.000 0.000 0.000 0.002 0.000 0.000 0.000 0.000 0.000 0.000 0.003 0.001 0.000 0.001 0.000 0.000 0.000 0.000 0.000 0.000 0.000 0.000 0.000 0.001 0.001 0.000 0.002 0.000 0.005 0.000 0.000 0.000 0.000 0.000 0.000 0.000 0.000 0.000 0.002 0.001 0.001 0.000 0.000 0.000 0.001 0.001 0.000 0.000 0.000 0.000 0.000 0.000 0.000 0.000 0.000 0.000 0.001 0.000 0.000 0.025 0.000 0.001 0.000 0.001 0.000 0.001 0.000 0.000 0.000 0.000 0.000 0.000 0.000 0.000 0.000 0.000 0.000 0.000 0.006 0.000 0.000 0.000 0.000 0.000 0.000 0.000 0.000 0.000 0.000 0.000 0.000 0.005 0.000 0.000 0.000 0.001 0.012 0.000 0.001 0.000 0.002 0.001 0.000 0.000 0.000 0.001 0.001 0.000 0.000 0.000 0.000 0.000 0.000 0.000 0.000 0.001 0.000 0.000 0.000 0.000 0.006 0.000 0.000 0.000 0.000 0.001 0.001 0.000 0.003 0.000 0.028 0.000 0.000 0.000 0.000 0.000 0.000 0.001 0.001 0.000 0.000 0.004 0.000 0.000 0.000 0.000 0.000 0.000 0.000 0.000 0.000 0.000 0.006 0.000 0.014 0.000 0.002 0.000 0.030 0.000 0.000 0.000 0.002 0.000 0.000 0.000 0.000 0.000 0.000 0.001 0.000 0.000 0.001 0.000 0.001 0.000 0.000 0.000 0.000 0.000 0.000 0.001 0.000 0.000 0.000 0.000 0.001 0.001 0.000 0.000 0.001 0.006 0.000 0.001 0.000 0.000 0.000 0.000 0.000 0.000 0.000 0.003 0.000 0.000 0.000 0.000 0.017 0.000 0.000 0.001 0.000 0.000 0.000 0.000 0.000 0.000 0.000 0.000 0.000 0.000 0.000 0.000 0.000 0.000 0.000 0.000 0.000 0.000 0.004 0.000 0.000 0.000 0.001 0.000 0.014 0.000]\n",
      "Hub:\n",
      "[0.003 0.000 0.000 0.000 0.000 0.000 0.010 0.014 0.012 0.000 0.000 0.000 0.000 0.000 0.000 0.000 0.000 0.000 0.000 0.000 0.000 0.000 0.000 0.000 0.011 0.000 0.000 0.000 0.000 0.000 0.000 0.000 0.000 0.000 0.000 0.004 0.000 0.000 0.000 0.000 0.004 0.000 0.000 0.000 0.000 0.000 0.000 0.000 0.000 0.014 0.000 0.000 0.000 0.000 0.000 0.000 0.000 0.000 0.009 0.000 0.000 0.009 0.001 0.000 0.000 0.000 0.000 0.004 0.000 0.000 0.000 0.000 0.000 0.000 0.000 0.000 0.000 0.010 0.015 0.000 0.012 0.000 0.000 0.000 0.000 0.000 0.000 0.000 0.000 0.000 0.015 0.000 0.000 0.000 0.004 0.000 0.000 0.001 0.000 0.000 0.000 0.000 0.000 0.000 0.000 0.001 0.000 0.000 0.000 0.000 0.000 0.000 0.000 0.000 0.000 0.000 0.001 0.000 0.000 0.000 0.000 0.000 0.000 0.000 0.000 0.000 0.000 0.000 0.000 0.000 0.000 0.000 0.000 0.010 0.004 0.000 0.000 0.000 0.000 0.014 0.000 0.000 0.000 0.000 0.000 0.000 0.000 0.000 0.000 0.000 0.000 0.000 0.000 0.002 0.000 0.001 0.001 0.000 0.000 0.000 0.000 0.000 0.000 0.000 0.000 0.000 0.000 0.000 0.014 0.000 0.016 0.000 0.000 0.000 0.000 0.000 0.000 0.000 0.000 0.012 0.000 0.000 0.000 0.000 0.015 0.000 0.010 0.000 0.000 0.000 0.004 0.000 0.000 0.014 0.000 0.000 0.000 0.000 0.001 0.000 0.000 0.011 0.000 0.000 0.000 0.000 0.000 0.000 0.004 0.000 0.000 0.000 0.000 0.000 0.000 0.000 0.000 0.000 0.001 0.004 0.000 0.000 0.000 0.000 0.000 0.000 0.000 0.000 0.000 0.000 0.000 0.001 0.000 0.000 0.000 0.000 0.000 0.000 0.000 0.000 0.000 0.000 0.000 0.000 0.000 0.000 0.000 0.000 0.000 0.012 0.000 0.000 0.000 0.004 0.000 0.000 0.000 0.000 0.000 0.000 0.000 0.000 0.000 0.000 0.000 0.011 0.014 0.000 0.000 0.000 0.000 0.000 0.004 0.000 0.000 0.000 0.000 0.000 0.000 0.000 0.000 0.000 0.002 0.000 0.000 0.000 0.000 0.000 0.000 0.004 0.000 0.000 0.000 0.000 0.000 0.000 0.000 0.000 0.000 0.010 0.000 0.000 0.000 0.000 0.000 0.000 0.000 0.000 0.010 0.000 0.000 0.009 0.000 0.000 0.000 0.000 0.000 0.000 0.000 0.001 0.000 0.000 0.000 0.004 0.000 0.000 0.000 0.000 0.000 0.000 0.003 0.000 0.000 0.000 0.000 0.014 0.000 0.000 0.000 0.000 0.000 0.000 0.000 0.000 0.000 0.000 0.000 0.000 0.000 0.000 0.000 0.001 0.000 0.000 0.000 0.000 0.000 0.000 0.000 0.000 0.002 0.000 0.000 0.000 0.000 0.000 0.000 0.000 0.000 0.000 0.000 0.000 0.000 0.000 0.000 0.000 0.000 0.000 0.000 0.000 0.000 0.010 0.000 0.000 0.000 0.015 0.003 0.000 0.000 0.000 0.000 0.000 0.000 0.000 0.000 0.000 0.013 0.000 0.000 0.000 0.000 0.000 0.000 0.000 0.000 0.000 0.000 0.000 0.000 0.000 0.000 0.000 0.000 0.000 0.000 0.000 0.000 0.000 0.000 0.000 0.002 0.001 0.000 0.000 0.000 0.000 0.000 0.000 0.000 0.000 0.000 0.000 0.000 0.000 0.000 0.000 0.002 0.000 0.000 0.000 0.011 0.000 0.000 0.000 0.000 0.000 0.000 0.000 0.012 0.000 0.000 0.001 0.000 0.000 0.000 0.000 0.000 0.000 0.010 0.000 0.000 0.014 0.000 0.000 0.000 0.000 0.000 0.000 0.000 0.000 0.000 0.000 0.000 0.001 0.000 0.000 0.001 0.000 0.000 0.000 0.000 0.000 0.000 0.000 0.000 0.000 0.000 0.000 0.000 0.000 0.000 0.001 0.000 0.000 0.000 0.000 0.004 0.000 0.015 0.000 0.014 0.000 0.000 0.000 0.000 0.013 0.000 0.000 0.000 0.000 0.000 0.000 0.000 0.000 0.000 0.000 0.001 0.000 0.000 0.000 0.000 0.000 0.000 0.000 0.000 0.000 0.000 0.000 0.000 0.000 0.000 0.000 0.000 0.000 0.000 0.000 0.000 0.000 0.000 0.010 0.000 0.000 0.000 0.000 0.000 0.000 0.000 0.000 0.000 0.000 0.000 0.010 0.000 0.004 0.000 0.001 0.000 0.000 0.004 0.000 0.000 0.000 0.000 0.000 0.000 0.000 0.000 0.000 0.000 0.000 0.000 0.000 0.000 0.000 0.000 0.000 0.000 0.004 0.000 0.010 0.010 0.000 0.000 0.000 0.001 0.000 0.000 0.000 0.000 0.000 0.000 0.000 0.014 0.000 0.000 0.000 0.000 0.000 0.000 0.000 0.000 0.000 0.000 0.000 0.000 0.014 0.000 0.000 0.000 0.000 0.001 0.000 0.000 0.000 0.000 0.000 0.000 0.000 0.000 0.000 0.000 0.000 0.000 0.000 0.000 0.000 0.000 0.000 0.000 0.000 0.000 0.000 0.000 0.000 0.000 0.000 0.000 0.001 0.000 0.000 0.010 0.000 0.000 0.000 0.001 0.000 0.000 0.003 0.000 0.000 0.000 0.000 0.000 0.001 0.000 0.000 0.000 0.000 0.011 0.000 0.000 0.013 0.000 0.000 0.000 0.000 0.000 0.000 0.000 0.000 0.000 0.000 0.000 0.000 0.000 0.000 0.000 0.000 0.000 0.000 0.000 0.000 0.000 0.000 0.000 0.000 0.000 0.000 0.002 0.000 0.000 0.000 0.000 0.000 0.004 0.000 0.000 0.000 0.000 0.000 0.000 0.000 0.000 0.000 0.000 0.000 0.000 0.000 0.000 0.000 0.000 0.000 0.000 0.000 0.000 0.000 0.000 0.000 0.000 0.000 0.000 0.000 0.000 0.000 0.000 0.000 0.000 0.000 0.000 0.000 0.000 0.000 0.000 0.000 0.000 0.000 0.000 0.000 0.010 0.000 0.000 0.000 0.000 0.000 0.000 0.000 0.000 0.004 0.000 0.000 0.000 0.000 0.000 0.000 0.015 0.000 0.000 0.000 0.000 0.000 0.000 0.000 0.000 0.000 0.004 0.000 0.000 0.000 0.000 0.000 0.000 0.001 0.000 0.000 0.000 0.000 0.000 0.000 0.000 0.000 0.000 0.000 0.000 0.000 0.000 0.000 0.000 0.000 0.000 0.000 0.000 0.000 0.000 0.000 0.000 0.000 0.000 0.000 0.000 0.000 0.000 0.001 0.012 0.000 0.000 0.000 0.000 0.000 0.000 0.000 0.000 0.000 0.000 0.000 0.010 0.000 0.000 0.000 0.000 0.000 0.000 0.000 0.000 0.000 0.000 0.000 0.000 0.000 0.000 0.001 0.000 0.000 0.000 0.000 0.015 0.000 0.000 0.000 0.000 0.000 0.000 0.000 0.000 0.000 0.000 0.000 0.000 0.004 0.000 0.000 0.000 0.000 0.001 0.000 0.000 0.000 0.016 0.000 0.000 0.000 0.000 0.000 0.010 0.000 0.000 0.000 0.000 0.000 0.000 0.000 0.000 0.004 0.000 0.000 0.000 0.000 0.000 0.000 0.000 0.000 0.000 0.000 0.000 0.000 0.000 0.000 0.000 0.000 0.000 0.000 0.000 0.000 0.000 0.000 0.000 0.012 0.004 0.000 0.000 0.000 0.000 0.000 0.000 0.000 0.012 0.000 0.000 0.000 0.000 0.000 0.000 0.000 0.000 0.012 0.000 0.000 0.000 0.000 0.000 0.002 0.000 0.000 0.000 0.001 0.000 0.000 0.000 0.000 0.012 0.010 0.001 0.000 0.000 0.000 0.000 0.000 0.000 0.000 0.000 0.000 0.000 0.000 0.000 0.011 0.000 0.004 0.000 0.001 0.000 0.000 0.000 0.000 0.000 0.000 0.004 0.000 0.000 0.000 0.000 0.000 0.000 0.000 0.000 0.000 0.000 0.000 0.000 0.000 0.000 0.000 0.000 0.000 0.000 0.000 0.000 0.000 0.000 0.000 0.000 0.000 0.000 0.000 0.000 0.000 0.000 0.000 0.000 0.000 0.000 0.000 0.000 0.000 0.000 0.000 0.000 0.009 0.000 0.000 0.000 0.000 0.000 0.000 0.003 0.000 0.000 0.000 0.000 0.000 0.002 0.000 0.000 0.000 0.000 0.000 0.000 0.000 0.000 0.000 0.009 0.000 0.000 0.000 0.000 0.000 0.000 0.000 0.000 0.000 0.000 0.000 0.000 0.000 0.000 0.000 0.000 0.000 0.000 0.000 0.000 0.000 0.000 0.000 0.000 0.000 0.000 0.000 0.000 0.000 0.000 0.000 0.000 0.000 0.000 0.000 0.000 0.000 0.000 0.004 0.000 0.000 0.000 0.000 0.000 0.000 0.000 0.000 0.000 0.000 0.000 0.000 0.013 0.000 0.000 0.001 0.000 0.000 0.000 0.000 0.000 0.000 0.000 0.000 0.000 0.004 0.000 0.000 0.000 0.000 0.000 0.000 0.000 0.000 0.000 0.000 0.000 0.000 0.000 0.000 0.000 0.000 0.000 0.000 0.000 0.000 0.000 0.000 0.000 0.000 0.000 0.000 0.000 0.000 0.010 0.000 0.000 0.000 0.000 0.002 0.000 0.000 0.000 0.000 0.000 0.000 0.000 0.000 0.000 0.000 0.000 0.000 0.010 0.000 0.000 0.002 0.000 0.000 0.000 0.000 0.004 0.000 0.000 0.000 0.004 0.000 0.000 0.000 0.000 0.000 0.000 0.014 0.000 0.000 0.000 0.000 0.000 0.000 0.011 0.000 0.000 0.000 0.000 0.000 0.003 0.000 0.000 0.000 0.000 0.000 0.000 0.000 0.000 0.000 0.000 0.002 0.000 0.000 0.000 0.000 0.000 0.000 0.000 0.000 0.001 0.000 0.000 0.000 0.000 0.000 0.000 0.000 0.000 0.000 0.000 0.000 0.000 0.000 0.000 0.000 0.015 0.000 0.000 0.000 0.000 0.000 0.000 0.000 0.000 0.000 0.000 0.000 0.000 0.000 0.000 0.000 0.000 0.000 0.000 0.000 0.000 0.000 0.000 0.000 0.000 0.000 0.000 0.000 0.010 0.000]\n"
     ]
    }
   ],
   "source": [
    "start_time = time.time()\n",
    "run_hits_algorithm(graph, iteration)\n",
    "end_time = time.time()\n",
    "elapsed_time = end_time - start_time\n",
    "elapsed_time_rounded = round(elapsed_time, 5)\n",
    "print(f\"Execution time: {elapsed_time_rounded} seconds\")\n",
    "\n",
    "auth_list, hub_list = graph.get_authority_hub_lists()\n",
    "\n",
    "# Convert to NumPy arrays\n",
    "auth_array = np.array(auth_list)\n",
    "hub_array = np.array(hub_list)\n",
    "\n",
    "# Print to STDOUT\n",
    "print(\"Authority:\")\n",
    "print(\"[\", end=\"\")\n",
    "print(\" \".join(f\"{value:.3f}\" for value in auth_array), end=\"]\\n\")\n",
    "print(\"Hub:\")\n",
    "print(\"[\", end=\"\")\n",
    "print(\" \".join(f\"{value:.3f}\" for value in hub_array), end=\"]\\n\")"
   ]
  },
  {
   "cell_type": "markdown",
   "metadata": {},
   "source": [
    "## PageRank Algorithm"
   ]
  },
  {
   "cell_type": "code",
   "execution_count": 89,
   "metadata": {},
   "outputs": [
    {
     "name": "stdout",
     "output_type": "stream",
     "text": [
      "Execution time: 0.37506 seconds\n",
      "PageRank:\n",
      "[0.001 0.001 0.001 0.001 0.001 0.001 0.001 0.001 0.001 0.001 0.001 0.001 0.001 0.001 0.001 0.001 0.001 0.001 0.001 0.001 0.001 0.001 0.001 0.001 0.001 0.001 0.001 0.001 0.001 0.001 0.001 0.001 0.001 0.001 0.001 0.001 0.001 0.001 0.001 0.001 0.001 0.001 0.002 0.001 0.001 0.001 0.001 0.001 0.001 0.001 0.001 0.001 0.001 0.001 0.001 0.001 0.001 0.001 0.001 0.001 0.001 0.003 0.001 0.001 0.001 0.001 0.001 0.002 0.001 0.001 0.001 0.001 0.001 0.001 0.001 0.001 0.001 0.003 0.001 0.001 0.001 0.001 0.001 0.001 0.001 0.001 0.001 0.001 0.001 0.001 0.001 0.001 0.001 0.001 0.002 0.001 0.001 0.001 0.001 0.001 0.001 0.001 0.001 0.001 0.001 0.001 0.001 0.001 0.001 0.001 0.001 0.001 0.001 0.001 0.001 0.001 0.001 0.001 0.001 0.001 0.001 0.001 0.001 0.001 0.001 0.001 0.001 0.001 0.001 0.001 0.001 0.001 0.001 0.002 0.001 0.001 0.001 0.001 0.001 0.001 0.001 0.002 0.001 0.001 0.001 0.001 0.001 0.001 0.001 0.001 0.001 0.001 0.001 0.001 0.001 0.001 0.001 0.001 0.001 0.001 0.001 0.001 0.001 0.001 0.001 0.001 0.001 0.001 0.001 0.001 0.001 0.001 0.001 0.001 0.001 0.001 0.001 0.001 0.001 0.002 0.001 0.001 0.001 0.001 0.001 0.001 0.001 0.001 0.001 0.001 0.001 0.001 0.001 0.001 0.001 0.001 0.001 0.001 0.001 0.001 0.001 0.001 0.001 0.001 0.001 0.001 0.001 0.001 0.001 0.001 0.001 0.001 0.001 0.001 0.001 0.001 0.001 0.001 0.001 0.002 0.001 0.001 0.001 0.001 0.002 0.001 0.001 0.001 0.001 0.001 0.001 0.001 0.001 0.001 0.001 0.001 0.001 0.001 0.001 0.001 0.001 0.001 0.001 0.001 0.001 0.001 0.001 0.001 0.001 0.001 0.001 0.001 0.001 0.001 0.001 0.001 0.001 0.001 0.001 0.001 0.001 0.001 0.001 0.001 0.001 0.001 0.001 0.001 0.001 0.001 0.001 0.001 0.002 0.001 0.001 0.001 0.001 0.001 0.001 0.001 0.001 0.001 0.001 0.001 0.001 0.001 0.001 0.001 0.001 0.001 0.001 0.001 0.001 0.001 0.001 0.001 0.001 0.002 0.001 0.001 0.001 0.001 0.001 0.001 0.001 0.001 0.001 0.001 0.001 0.001 0.001 0.001 0.001 0.001 0.001 0.001 0.001 0.001 0.001 0.001 0.001 0.001 0.001 0.001 0.001 0.001 0.001 0.001 0.001 0.001 0.001 0.001 0.001 0.001 0.001 0.001 0.001 0.001 0.001 0.001 0.001 0.001 0.001 0.001 0.001 0.001 0.001 0.001 0.001 0.001 0.001 0.001 0.001 0.001 0.001 0.001 0.002 0.001 0.001 0.001 0.001 0.001 0.001 0.001 0.001 0.001 0.002 0.001 0.001 0.002 0.001 0.001 0.001 0.002 0.001 0.001 0.001 0.001 0.001 0.001 0.001 0.001 0.001 0.001 0.001 0.002 0.002 0.001 0.001 0.001 0.001 0.001 0.001 0.003 0.001 0.001 0.001 0.001 0.001 0.001 0.001 0.001 0.001 0.001 0.001 0.001 0.001 0.001 0.001 0.002 0.001 0.001 0.001 0.001 0.002 0.001 0.001 0.001 0.001 0.001 0.001 0.001 0.001 0.001 0.001 0.001 0.001 0.001 0.001 0.001 0.001 0.001 0.001 0.001 0.001 0.001 0.001 0.001 0.001 0.001 0.001 0.001 0.001 0.001 0.001 0.001 0.001 0.001 0.001 0.001 0.001 0.001 0.001 0.001 0.001 0.001 0.001 0.001 0.001 0.001 0.001 0.001 0.001 0.001 0.001 0.001 0.001 0.002 0.001 0.001 0.001 0.001 0.001 0.001 0.001 0.001 0.001 0.001 0.001 0.001 0.001 0.001 0.001 0.001 0.001 0.001 0.001 0.001 0.001 0.001 0.001 0.001 0.001 0.002 0.001 0.001 0.001 0.001 0.001 0.001 0.003 0.001 0.001 0.001 0.001 0.002 0.001 0.001 0.001 0.001 0.001 0.001 0.001 0.001 0.001 0.001 0.001 0.001 0.001 0.001 0.001 0.001 0.001 0.001 0.001 0.001 0.001 0.002 0.001 0.001 0.001 0.001 0.001 0.001 0.001 0.001 0.001 0.001 0.001 0.001 0.001 0.001 0.001 0.001 0.001 0.001 0.001 0.001 0.001 0.001 0.001 0.001 0.001 0.002 0.001 0.001 0.001 0.001 0.001 0.001 0.001 0.001 0.001 0.001 0.001 0.001 0.001 0.001 0.001 0.001 0.001 0.001 0.001 0.001 0.001 0.001 0.001 0.002 0.001 0.001 0.001 0.001 0.001 0.001 0.001 0.001 0.001 0.001 0.001 0.001 0.001 0.001 0.001 0.001 0.001 0.001 0.001 0.001 0.001 0.001 0.001 0.001 0.001 0.001 0.001 0.001 0.001 0.001 0.001 0.001 0.001 0.001 0.001 0.001 0.001 0.001 0.001 0.001 0.001 0.001 0.001 0.001 0.001 0.001 0.001 0.001 0.001 0.001 0.001 0.001 0.001 0.001 0.001 0.001 0.001 0.001 0.001 0.001 0.001 0.001 0.001 0.001 0.001 0.001 0.001 0.001 0.001 0.001 0.001 0.001 0.001 0.001 0.001 0.001 0.001 0.001 0.001 0.001 0.001 0.001 0.001 0.001 0.001 0.001 0.001 0.001 0.001 0.001 0.001 0.001 0.001 0.001 0.001 0.001 0.001 0.001 0.001 0.001 0.001 0.001 0.001 0.001 0.001 0.001 0.001 0.001 0.001 0.001 0.001 0.001 0.001 0.001 0.001 0.001 0.001 0.001 0.001 0.001 0.001 0.001 0.001 0.001 0.001 0.001 0.001 0.001 0.001 0.001 0.001 0.001 0.001 0.001 0.001 0.001 0.001 0.001 0.001 0.001 0.001 0.001 0.001 0.001 0.001 0.001 0.001 0.001 0.001 0.001 0.001 0.001 0.001 0.001 0.001 0.001 0.001 0.001 0.001 0.001 0.001 0.001 0.001 0.001 0.001 0.001 0.001 0.001 0.001 0.001 0.001 0.001 0.001 0.001 0.001 0.001 0.001 0.001 0.001 0.001 0.001 0.001 0.003 0.001 0.001 0.001 0.001 0.001 0.001 0.001 0.001 0.001 0.001 0.001 0.001 0.001 0.001 0.001 0.001 0.001 0.001 0.001 0.001 0.001 0.001 0.001 0.001 0.001 0.001 0.001 0.001 0.001 0.001 0.001 0.001 0.001 0.001 0.001 0.001 0.001 0.001 0.001 0.001 0.001 0.001 0.001 0.001 0.001 0.001 0.001 0.001 0.001 0.001 0.001 0.001 0.001 0.001 0.001 0.001 0.001 0.002 0.001 0.001 0.001 0.001 0.001 0.001 0.001 0.001 0.001 0.001 0.001 0.001 0.001 0.001 0.001 0.001 0.001 0.001 0.001 0.001 0.001 0.001 0.001 0.001 0.001 0.001 0.001 0.001 0.002 0.001 0.001 0.001 0.001 0.001 0.001 0.001 0.001 0.001 0.001 0.001 0.001 0.001 0.001 0.003 0.001 0.001 0.001 0.001 0.001 0.001 0.001 0.001 0.001 0.001 0.001 0.001 0.001 0.001 0.001 0.001 0.001 0.001 0.001 0.001 0.001 0.001 0.001 0.001 0.001 0.001 0.001 0.001 0.001 0.001 0.001 0.001 0.001 0.001 0.001 0.001 0.001 0.001 0.001 0.001 0.001 0.001 0.001 0.001 0.001 0.001 0.001 0.001 0.001 0.001 0.001 0.001 0.001 0.001 0.001 0.001 0.001 0.001 0.001 0.001 0.001 0.001 0.001 0.001 0.001 0.001 0.001 0.002 0.001 0.001 0.001 0.001 0.001 0.001 0.001 0.001 0.001 0.001 0.001 0.001 0.001 0.001 0.002 0.001 0.001 0.001 0.001 0.001 0.001 0.001 0.001 0.002 0.001 0.001 0.001 0.001 0.001 0.001 0.001 0.001 0.001 0.001 0.001 0.001 0.001 0.001 0.001 0.001 0.001 0.001 0.001 0.001 0.001 0.001 0.001 0.001 0.001 0.001 0.001 0.001 0.001 0.001 0.001 0.001 0.001 0.001 0.001 0.001 0.001 0.001 0.001 0.001 0.001 0.001 0.001 0.001 0.001 0.001 0.001 0.001 0.001 0.001 0.001 0.001 0.001 0.001 0.001 0.001 0.001 0.001 0.001 0.001 0.001 0.001 0.001 0.001 0.001 0.002 0.001 0.001 0.001 0.001 0.001 0.001 0.001 0.001 0.001 0.001 0.001 0.001 0.001 0.001 0.001 0.001 0.001 0.001 0.001 0.001 0.001 0.001 0.001 0.001 0.001 0.001 0.001 0.001 0.001 0.001 0.004 0.001 0.001 0.001 0.001 0.001 0.001 0.001 0.001 0.001 0.001 0.001 0.001 0.001 0.001 0.001 0.001 0.001 0.001 0.001 0.001 0.001 0.001 0.001 0.001 0.001 0.001 0.001 0.001 0.001 0.001 0.001 0.002 0.001 0.001 0.001 0.001 0.001 0.001 0.001 0.001 0.001 0.001 0.001 0.001 0.001 0.001 0.001 0.001 0.001 0.001 0.001 0.001 0.001 0.001 0.001 0.001 0.001 0.001 0.001 0.001 0.001 0.001 0.001 0.001 0.001 0.001 0.001 0.001 0.001 0.001 0.003 0.001 0.001 0.001 0.001 0.001 0.001 0.001 0.001 0.001 0.001 0.002 0.001 0.001 0.001 0.001 0.001 0.001 0.001 0.001 0.001 0.001 0.001 0.001 0.002 0.001 0.001 0.001 0.003 0.001 0.001 0.001 0.001 0.001 0.001 0.001 0.001 0.001 0.001 0.001 0.001 0.001 0.001 0.001 0.001 0.001 0.001 0.001 0.001 0.001 0.001 0.001 0.001 0.001 0.001 0.001 0.001 0.001 0.001 0.001 0.001 0.001 0.001 0.001 0.001 0.001 0.001 0.001 0.001 0.001 0.001 0.001 0.001 0.001 0.001 0.001 0.002 0.001 0.001 0.001 0.001 0.001 0.001 0.001 0.001 0.001 0.001 0.001 0.001 0.001 0.001 0.001 0.001 0.001 0.001 0.001 0.001 0.001 0.001 0.001 0.001 0.001 0.001 0.001 0.002 0.001]\n"
     ]
    }
   ],
   "source": [
    "start_time = time.time()\n",
    "page_rank(graph, damping_factor, iteration)\n",
    "end_time = time.time()\n",
    "elapsed_time = end_time - start_time\n",
    "elapsed_time_rounded = round(elapsed_time, 5)\n",
    "print(f\"Execution time: {elapsed_time_rounded} seconds\")\n",
    "pagerank_result = graph.get_pagerank()\n",
    "\n",
    "# Print to STDOUT\n",
    "print(\"PageRank:\")\n",
    "print(\"[\", end=\"\")\n",
    "print(\" \".join(f\"{value:.3f}\" for value in pagerank_result), end=\"]\\n\")"
   ]
  },
  {
   "cell_type": "markdown",
   "metadata": {},
   "source": [
    "## SimRank Algorithm"
   ]
  },
  {
   "cell_type": "code",
   "execution_count": 89,
   "metadata": {},
   "outputs": [],
   "source": [
    "pass"
   ]
  },
  {
   "cell_type": "markdown",
   "metadata": {},
   "source": [
    "# ibm-5000"
   ]
  },
  {
   "cell_type": "code",
   "execution_count": 91,
   "metadata": {},
   "outputs": [],
   "source": [
    "graph_file = '../inputs/ibm-5000.txt'\n",
    "graph = initialize_graph_from_file(graph_file)"
   ]
  },
  {
   "cell_type": "markdown",
   "metadata": {},
   "source": [
    "## HITS Algorithm "
   ]
  },
  {
   "cell_type": "code",
   "execution_count": 92,
   "metadata": {},
   "outputs": [
    {
     "name": "stdout",
     "output_type": "stream",
     "text": [
      "Execution time: 0.03912 seconds\n",
      "Authority:\n",
      "[0.000 0.000 0.130 0.000 0.000 0.000 0.000 0.000 0.000 0.000 0.000 0.000 0.000 0.000 0.000 0.000 0.000 0.000 0.000 0.000 0.000 0.000 0.000 0.000 0.000 0.009 0.000 0.000 0.000 0.000 0.000 0.000 0.000 0.000 0.000 0.000 0.000 0.000 0.000 0.000 0.000 0.000 0.000 0.000 0.000 0.000 0.000 0.001 0.000 0.000 0.000 0.000 0.000 0.000 0.000 0.000 0.000 0.000 0.000 0.000 0.000 0.000 0.000 0.000 0.000 0.000 0.000 0.000 0.000 0.000 0.000 0.000 0.000 0.000 0.000 0.000 0.000 0.000 0.000 0.000 0.000 0.000 0.000 0.000 0.000 0.000 0.000 0.000 0.000 0.000 0.000 0.000 0.000 0.000 0.000 0.000 0.000 0.000 0.000 0.000 0.000 0.000 0.000 0.000 0.000 0.000 0.000 0.000 0.000 0.000 0.128 0.000 0.000 0.000 0.000 0.000 0.000 0.000 0.000 0.000 0.000 0.000 0.000 0.000 0.000 0.000 0.000 0.000 0.000 0.000 0.000 0.000 0.000 0.000 0.000 0.000 0.000 0.000 0.000 0.000 0.000 0.000 0.000 0.000 0.000 0.000 0.001 0.000 0.000 0.000 0.000 0.000 0.000 0.000 0.000 0.000 0.000 0.000 0.000 0.000 0.000 0.000 0.000 0.000 0.000 0.000 0.000 0.000 0.001 0.000 0.000 0.000 0.000 0.000 0.000 0.000 0.000 0.000 0.000 0.000 0.000 0.000 0.000 0.000 0.000 0.000 0.000 0.000 0.000 0.000 0.000 0.000 0.000 0.000 0.000 0.000 0.000 0.000 0.000 0.000 0.000 0.000 0.000 0.000 0.000 0.000 0.000 0.000 0.000 0.000 0.000 0.000 0.000 0.000 0.000 0.000 0.000 0.000 0.000 0.000 0.000 0.000 0.000 0.000 0.000 0.000 0.000 0.000 0.000 0.000 0.000 0.000 0.000 0.000 0.000 0.000 0.000 0.010 0.000 0.000 0.000 0.000 0.000 0.000 0.000 0.000 0.005 0.000 0.000 0.000 0.000 0.000 0.000 0.000 0.000 0.000 0.000 0.000 0.000 0.000 0.000 0.000 0.000 0.000 0.000 0.000 0.000 0.000 0.000 0.000 0.000 0.000 0.000 0.000 0.000 0.000 0.000 0.000 0.000 0.000 0.000 0.000 0.000 0.000 0.000 0.000 0.000 0.000 0.000 0.000 0.000 0.000 0.000 0.000 0.000 0.000 0.000 0.000 0.000 0.000 0.000 0.000 0.000 0.000 0.000 0.000 0.006 0.000 0.000 0.000 0.000 0.000 0.000 0.000 0.000 0.000 0.000 0.000 0.000 0.000 0.000 0.000 0.000 0.000 0.000 0.000 0.000 0.000 0.000 0.000 0.000 0.000 0.000 0.000 0.000 0.000 0.000 0.000 0.000 0.000 0.000 0.000 0.000 0.000 0.000 0.000 0.000 0.000 0.000 0.000 0.000 0.000 0.000 0.000 0.000 0.000 0.000 0.000 0.000 0.000 0.000 0.000 0.000 0.000 0.000 0.000 0.000 0.000 0.000 0.000 0.000 0.000 0.000 0.000 0.000 0.000 0.000 0.000 0.000 0.000 0.000 0.000 0.000 0.000 0.000 0.000 0.000 0.000 0.000 0.000 0.000 0.000 0.000 0.000 0.003 0.000 0.000 0.000 0.000 0.000 0.000 0.008 0.000 0.000 0.000 0.000 0.000 0.000 0.000 0.000 0.000 0.000 0.000 0.000 0.000 0.000 0.000 0.000 0.000 0.000 0.000 0.000 0.001 0.000 0.000 0.000 0.000 0.000 0.000 0.000 0.000 0.001 0.000 0.000 0.000 0.000 0.000 0.000 0.000 0.000 0.000 0.000 0.011 0.000 0.000 0.000 0.000 0.000 0.000 0.000 0.129 0.000 0.000 0.000 0.000 0.000 0.000 0.000 0.000 0.000 0.000 0.000 0.000 0.000 0.000 0.000 0.000 0.000 0.000 0.012 0.000 0.000 0.000 0.000 0.000 0.000 0.000 0.000 0.000 0.008 0.000 0.000 0.000 0.000 0.000 0.000 0.128 0.128 0.000 0.000 0.000 0.000 0.000 0.000 0.000 0.000 0.000 0.000 0.000 0.000 0.000 0.000 0.000 0.000 0.000 0.009 0.000 0.000 0.000 0.000 0.000 0.000 0.000 0.000 0.000 0.000 0.000 0.000 0.000 0.000 0.000 0.000 0.130 0.000 0.000 0.000 0.000 0.000 0.000 0.000 0.000 0.000 0.000 0.000 0.000 0.000 0.000 0.000 0.000 0.000 0.000 0.000 0.000 0.000 0.000 0.000 0.000 0.000 0.000 0.000 0.000 0.000 0.000 0.000 0.000 0.000 0.000 0.000 0.000 0.000 0.000 0.000 0.000 0.000 0.000 0.000 0.000 0.000 0.000 0.009 0.000 0.000 0.000 0.000 0.000 0.000 0.000 0.001 0.000 0.000 0.000 0.000 0.000 0.000 0.000 0.000 0.000 0.000 0.000 0.000 0.000 0.000 0.000 0.000 0.006 0.000 0.000 0.006 0.000 0.000 0.000 0.000 0.000 0.000 0.000 0.000 0.000 0.000 0.000 0.001 0.000 0.000 0.000 0.000 0.000 0.000 0.000 0.000 0.000 0.000 0.000 0.000 0.000 0.000 0.000 0.000 0.000 0.014 0.008 0.000 0.000 0.000 0.000 0.012 0.000 0.000 0.000 0.000 0.000 0.000 0.000 0.000 0.000 0.000 0.000 0.000 0.007 0.000 0.000 0.000 0.000 0.000 0.000 0.000 0.000 0.000 0.000 0.000 0.000 0.000 0.000 0.000 0.000 0.000 0.000 0.000 0.000 0.000 0.000 0.000 0.000 0.000 0.000 0.000 0.000 0.000 0.000 0.000 0.000 0.000 0.000 0.000 0.000 0.000 0.000 0.000 0.000 0.000 0.000 0.000 0.000 0.000 0.000 0.000 0.000 0.000 0.000 0.000 0.000 0.000 0.000 0.000 0.000 0.000 0.003 0.000 0.000 0.000 0.000 0.000 0.000 0.000 0.000 0.000 0.000 0.000 0.000 0.000 0.000 0.000 0.000 0.000 0.006 0.000 0.000 0.000 0.000 0.000 0.006 0.000 0.000 0.000 0.000 0.000 0.000 0.000 0.000 0.007 0.000 0.000 0.000 0.000 0.000 0.000 0.000 0.000 0.000 0.000 0.000 0.000 0.000 0.000 0.000 0.000 0.000 0.000 0.000 0.000 0.000 0.000 0.000 0.000 0.000 0.014 0.000 0.000 0.000 0.000 0.000 0.000 0.000 0.000 0.000 0.000 0.000 0.000 0.000 0.006 0.000 0.000 0.000 0.000 0.000 0.000 0.000 0.000 0.000 0.000 0.000 0.000 0.000 0.000 0.000 0.000 0.000 0.000 0.000 0.000 0.000 0.000 0.000 0.000 0.001 0.000 0.000 0.000 0.000 0.000 0.000 0.000 0.000 0.000 0.000 0.000 0.000 0.000 0.000 0.000 0.000 0.000 0.000 0.000 0.000 0.000 0.000 0.001 0.000 0.000 0.001 0.001 0.001 0.000 0.008 0.003 0.008 0.008]\n",
      "Hub:\n",
      "[0.000 0.003 0.000 0.003 0.000 0.000 0.003 0.000 0.003 0.003 0.003 0.000 0.000 0.003 0.000 0.000 0.003 0.003 0.002 0.000 0.003 0.002 0.003 0.000 0.000 0.000 0.000 0.000 0.002 0.000 0.000 0.003 0.000 0.000 0.000 0.003 0.003 0.003 0.000 0.003 0.000 0.000 0.000 0.000 0.002 0.003 0.003 0.000 0.000 0.000 0.003 0.003 0.003 0.000 0.003 0.003 0.003 0.003 0.000 0.000 0.000 0.000 0.003 0.000 0.000 0.003 0.000 0.000 0.000 0.000 0.003 0.000 0.003 0.003 0.000 0.003 0.000 0.003 0.003 0.003 0.003 0.000 0.000 0.000 0.003 0.003 0.000 0.003 0.000 0.003 0.003 0.000 0.003 0.003 0.003 0.000 0.000 0.003 0.000 0.000 0.003 0.003 0.003 0.003 0.002 0.000 0.000 0.000 0.000 0.000 0.000 0.000 0.003 0.003 0.000 0.000 0.000 0.003 0.000 0.000 0.000 0.000 0.000 0.003 0.000 0.000 0.000 0.003 0.000 0.000 0.002 0.003 0.000 0.000 0.002 0.000 0.003 0.000 0.000 0.000 0.000 0.000 0.000 0.000 0.003 0.000 0.002 0.000 0.003 0.000 0.000 0.000 0.000 0.000 0.003 0.000 0.000 0.000 0.003 0.000 0.003 0.000 0.000 0.000 0.000 0.002 0.003 0.003 0.000 0.000 0.000 0.003 0.003 0.003 0.003 0.000 0.003 0.003 0.003 0.003 0.000 0.000 0.003 0.000 0.000 0.003 0.000 0.003 0.000 0.003 0.003 0.000 0.002 0.003 0.003 0.003 0.003 0.000 0.000 0.000 0.003 0.002 0.000 0.003 0.000 0.000 0.003 0.000 0.003 0.000 0.000 0.003 0.000 0.002 0.000 0.000 0.000 0.000 0.003 0.000 0.000 0.000 0.003 0.003 0.003 0.000 0.003 0.002 0.003 0.000 0.003 0.002 0.003 0.000 0.000 0.000 0.000 0.000 0.000 0.001 0.003 0.003 0.003 0.000 0.000 0.000 0.000 0.000 0.000 0.000 0.003 0.003 0.000 0.000 0.000 0.003 0.000 0.000 0.003 0.003 0.003 0.003 0.000 0.003 0.002 0.000 0.002 0.000 0.003 0.003 0.003 0.000 0.000 0.003 0.000 0.000 0.000 0.000 0.000 0.000 0.003 0.000 0.000 0.002 0.000 0.000 0.000 0.000 0.000 0.000 0.000 0.000 0.000 0.000 0.000 0.000 0.002 0.002 0.001 0.000 0.000 0.000 0.002 0.003 0.000 0.003 0.000 0.000 0.003 0.000 0.003 0.002 0.000 0.000 0.000 0.000 0.002 0.003 0.000 0.000 0.003 0.000 0.003 0.000 0.003 0.003 0.000 0.000 0.003 0.002 0.002 0.000 0.003 0.003 0.000 0.003 0.000 0.000 0.000 0.003 0.000 0.003 0.000 0.000 0.003 0.000 0.000 0.002 0.003 0.003 0.000 0.000 0.000 0.000 0.000 0.002 0.000 0.003 0.000 0.003 0.000 0.000 0.000 0.003 0.000 0.000 0.002 0.003 0.003 0.003 0.000 0.000 0.000 0.003 0.000 0.000 0.000 0.002 0.002 0.003 0.000 0.003 0.000 0.002 0.003 0.002 0.000 0.003 0.002 0.000 0.003 0.002 0.003 0.003 0.003 0.000 0.003 0.000 0.000 0.003 0.003 0.000 0.003 0.000 0.000 0.002 0.000 0.000 0.002 0.000 0.003 0.000 0.000 0.000 0.003 0.000 0.000 0.003 0.000 0.003 0.000 0.003 0.003 0.003 0.000 0.000 0.002 0.000 0.002 0.000 0.003 0.003 0.003 0.000 0.003 0.003 0.000 0.003 0.003 0.000 0.000 0.000 0.000 0.000 0.000 0.000 0.003 0.003 0.000 0.000 0.000 0.000 0.003 0.003 0.000 0.000 0.002 0.000 0.002 0.000 0.003 0.000 0.000 0.003 0.000 0.000 0.000 0.000 0.000 0.000 0.002 0.002 0.003 0.003 0.000 0.000 0.000 0.003 0.003 0.000 0.003 0.003 0.003 0.000 0.002 0.003 0.000 0.000 0.003 0.000 0.000 0.003 0.003 0.003 0.003 0.000 0.003 0.000 0.003 0.000 0.000 0.000 0.000 0.000 0.003 0.003 0.001 0.000 0.000 0.003 0.000 0.000 0.002 0.000 0.000 0.000 0.002 0.000 0.000 0.003 0.000 0.000 0.003 0.000 0.000 0.000 0.003 0.000 0.000 0.000 0.000 0.003 0.000 0.000 0.000 0.003 0.000 0.003 0.000 0.002 0.003 0.000 0.000 0.000 0.003 0.000 0.003 0.003 0.000 0.000 0.003 0.000 0.003 0.000 0.003 0.003 0.003 0.003 0.000 0.000 0.000 0.000 0.000 0.000 0.000 0.003 0.000 0.000 0.000 0.003 0.000 0.000 0.000 0.000 0.000 0.000 0.000 0.003 0.003 0.000 0.003 0.000 0.000 0.000 0.000 0.000 0.003 0.002 0.000 0.000 0.003 0.001 0.000 0.003 0.003 0.003 0.000 0.000 0.000 0.000 0.002 0.000 0.003 0.003 0.000 0.000 0.002 0.000 0.003 0.003 0.000 0.003 0.000 0.000 0.000 0.003 0.000 0.003 0.003 0.000 0.000 0.001 0.000 0.003 0.000 0.000 0.001 0.000 0.000 0.000 0.000 0.000 0.003 0.000 0.003 0.000 0.002 0.002 0.000 0.000 0.000 0.000 0.000 0.003 0.000 0.003 0.000 0.000 0.000 0.003 0.002 0.003 0.000 0.000 0.002 0.000 0.003 0.000 0.000 0.003 0.000 0.003 0.000 0.003 0.003 0.000 0.000 0.001 0.003 0.003 0.000 0.000 0.000 0.000 0.003 0.000 0.003 0.002 0.000 0.003 0.000 0.003 0.000 0.000 0.000 0.003 0.003 0.000 0.003 0.003 0.003 0.000 0.000 0.003 0.000 0.000 0.002 0.000 0.000 0.000 0.000 0.000 0.000 0.000 0.000 0.000 0.003 0.003 0.000 0.000 0.002 0.000 0.000 0.000 0.000 0.003 0.003 0.000 0.000 0.000 0.003 0.002 0.002 0.000 0.003 0.000 0.003 0.000 0.000 0.000 0.003 0.000 0.000 0.003 0.000 0.000 0.003 0.003 0.000 0.003 0.003 0.003 0.000 0.000 0.000 0.003 0.000 0.003 0.000 0.000 0.003 0.000 0.000 0.003 0.000 0.000 0.000 0.003 0.003 0.000 0.000 0.000 0.000 0.000 0.002 0.003 0.000 0.000 0.003 0.003 0.000 0.000 0.003 0.000 0.003 0.000 0.003 0.000 0.003 0.000 0.000 0.000 0.003 0.003 0.002 0.000 0.000 0.003 0.003 0.001 0.000 0.000 0.003 0.000 0.003 0.003 0.000 0.000 0.000 0.002 0.003 0.000 0.000 0.003 0.003 0.003 0.000 0.000 0.000 0.003 0.000 0.000 0.000 0.000 0.000 0.000 0.003 0.000 0.003 0.003 0.000 0.000 0.000 0.000 0.003 0.000 0.000 0.003 0.000 0.000 0.000 0.000 0.000 0.000 0.000 0.000]\n"
     ]
    }
   ],
   "source": [
    "start_time = time.time()\n",
    "run_hits_algorithm(graph, iteration)\n",
    "end_time = time.time()\n",
    "elapsed_time = end_time - start_time\n",
    "elapsed_time_rounded = round(elapsed_time, 5)\n",
    "print(f\"Execution time: {elapsed_time_rounded} seconds\")\n",
    "\n",
    "auth_list, hub_list = graph.get_authority_hub_lists()\n",
    "\n",
    "# Convert to NumPy arrays\n",
    "auth_array = np.array(auth_list)\n",
    "hub_array = np.array(hub_list)\n",
    "\n",
    "# Print to STDOUT\n",
    "print(\"Authority:\")\n",
    "print(\"[\", end=\"\")\n",
    "print(\" \".join(f\"{value:.3f}\" for value in auth_array), end=\"]\\n\")\n",
    "print(\"Hub:\")\n",
    "print(\"[\", end=\"\")\n",
    "print(\" \".join(f\"{value:.3f}\" for value in hub_array), end=\"]\\n\")"
   ]
  },
  {
   "cell_type": "markdown",
   "metadata": {},
   "source": [
    "## PageRank Algorithm"
   ]
  },
  {
   "cell_type": "code",
   "execution_count": 93,
   "metadata": {},
   "outputs": [
    {
     "name": "stdout",
     "output_type": "stream",
     "text": [
      "Execution time: 0.23525 seconds\n",
      "PageRank:\n",
      "[0.000 0.000 0.038 0.000 0.000 0.000 0.000 0.000 0.000 0.000 0.000 0.000 0.000 0.000 0.000 0.000 0.000 0.000 0.000 0.000 0.000 0.000 0.000 0.000 0.000 0.009 0.000 0.000 0.000 0.000 0.000 0.000 0.000 0.000 0.000 0.000 0.000 0.000 0.000 0.000 0.000 0.000 0.000 0.000 0.000 0.000 0.000 0.011 0.000 0.000 0.000 0.000 0.000 0.000 0.000 0.000 0.000 0.000 0.000 0.000 0.000 0.000 0.000 0.000 0.000 0.000 0.000 0.000 0.000 0.000 0.000 0.000 0.000 0.000 0.000 0.000 0.000 0.000 0.000 0.000 0.000 0.000 0.000 0.000 0.000 0.000 0.000 0.000 0.000 0.000 0.000 0.000 0.000 0.000 0.000 0.000 0.000 0.000 0.000 0.000 0.000 0.000 0.000 0.000 0.000 0.000 0.000 0.000 0.000 0.000 0.037 0.000 0.000 0.000 0.000 0.000 0.000 0.000 0.000 0.000 0.000 0.000 0.000 0.000 0.000 0.000 0.000 0.000 0.000 0.000 0.000 0.000 0.000 0.000 0.000 0.000 0.000 0.000 0.000 0.000 0.000 0.000 0.000 0.000 0.000 0.000 0.004 0.000 0.000 0.000 0.000 0.000 0.000 0.000 0.000 0.000 0.000 0.000 0.000 0.000 0.000 0.000 0.000 0.000 0.000 0.000 0.000 0.000 0.001 0.000 0.000 0.000 0.000 0.000 0.000 0.000 0.000 0.000 0.000 0.000 0.000 0.000 0.000 0.000 0.000 0.000 0.000 0.000 0.000 0.000 0.000 0.000 0.000 0.000 0.000 0.000 0.000 0.000 0.000 0.000 0.000 0.000 0.000 0.000 0.000 0.000 0.000 0.000 0.000 0.000 0.000 0.000 0.000 0.000 0.000 0.000 0.000 0.000 0.000 0.000 0.000 0.000 0.000 0.000 0.000 0.000 0.000 0.000 0.000 0.000 0.000 0.000 0.000 0.000 0.000 0.000 0.000 0.020 0.000 0.000 0.000 0.000 0.000 0.000 0.000 0.000 0.009 0.000 0.000 0.000 0.000 0.000 0.000 0.000 0.000 0.000 0.000 0.000 0.000 0.000 0.000 0.000 0.000 0.000 0.000 0.000 0.000 0.000 0.000 0.000 0.000 0.000 0.000 0.000 0.000 0.000 0.000 0.000 0.000 0.000 0.000 0.000 0.000 0.000 0.000 0.000 0.000 0.000 0.000 0.000 0.000 0.000 0.000 0.000 0.000 0.000 0.000 0.000 0.000 0.000 0.000 0.000 0.000 0.000 0.000 0.000 0.031 0.000 0.000 0.000 0.000 0.000 0.000 0.000 0.000 0.000 0.000 0.000 0.000 0.000 0.000 0.000 0.000 0.000 0.000 0.000 0.000 0.000 0.000 0.000 0.000 0.000 0.000 0.000 0.000 0.000 0.000 0.000 0.000 0.000 0.000 0.000 0.000 0.000 0.000 0.000 0.000 0.000 0.000 0.000 0.000 0.000 0.000 0.000 0.000 0.000 0.000 0.000 0.000 0.000 0.000 0.000 0.000 0.000 0.000 0.000 0.000 0.000 0.000 0.000 0.000 0.000 0.000 0.000 0.000 0.000 0.000 0.000 0.000 0.000 0.000 0.000 0.000 0.000 0.000 0.000 0.000 0.000 0.000 0.000 0.000 0.000 0.000 0.000 0.011 0.000 0.000 0.000 0.000 0.000 0.000 0.038 0.000 0.000 0.000 0.000 0.000 0.000 0.000 0.000 0.000 0.000 0.000 0.000 0.000 0.000 0.000 0.000 0.000 0.000 0.000 0.000 0.001 0.000 0.000 0.000 0.000 0.000 0.000 0.000 0.000 0.001 0.000 0.000 0.000 0.000 0.000 0.000 0.000 0.000 0.000 0.000 0.022 0.000 0.000 0.000 0.000 0.000 0.000 0.000 0.037 0.000 0.000 0.000 0.000 0.000 0.000 0.000 0.000 0.000 0.000 0.000 0.000 0.000 0.000 0.000 0.000 0.000 0.000 0.024 0.000 0.000 0.000 0.000 0.000 0.000 0.000 0.000 0.000 0.004 0.000 0.000 0.000 0.000 0.000 0.000 0.033 0.037 0.000 0.000 0.000 0.000 0.000 0.000 0.000 0.000 0.000 0.000 0.000 0.000 0.000 0.000 0.000 0.000 0.000 0.023 0.000 0.000 0.000 0.000 0.000 0.000 0.000 0.000 0.000 0.000 0.000 0.000 0.000 0.000 0.000 0.000 0.038 0.000 0.000 0.000 0.000 0.000 0.000 0.000 0.000 0.000 0.000 0.000 0.000 0.000 0.000 0.000 0.000 0.000 0.000 0.000 0.000 0.000 0.000 0.000 0.000 0.000 0.000 0.000 0.000 0.000 0.000 0.000 0.000 0.000 0.000 0.000 0.000 0.000 0.000 0.000 0.000 0.000 0.000 0.000 0.000 0.000 0.000 0.010 0.000 0.000 0.000 0.000 0.000 0.000 0.000 0.004 0.000 0.000 0.000 0.000 0.000 0.000 0.000 0.000 0.000 0.000 0.000 0.000 0.000 0.000 0.000 0.000 0.046 0.000 0.000 0.014 0.000 0.000 0.000 0.000 0.000 0.000 0.000 0.000 0.000 0.000 0.000 0.011 0.000 0.000 0.000 0.000 0.000 0.000 0.000 0.000 0.000 0.000 0.000 0.000 0.000 0.000 0.000 0.000 0.000 0.023 0.004 0.000 0.000 0.000 0.000 0.009 0.000 0.000 0.000 0.000 0.000 0.000 0.000 0.000 0.000 0.000 0.000 0.000 0.037 0.000 0.000 0.000 0.000 0.000 0.000 0.000 0.000 0.000 0.000 0.000 0.000 0.000 0.000 0.000 0.000 0.000 0.000 0.000 0.000 0.000 0.000 0.000 0.000 0.000 0.000 0.000 0.000 0.000 0.000 0.000 0.000 0.000 0.000 0.000 0.000 0.000 0.000 0.000 0.000 0.000 0.000 0.000 0.000 0.000 0.000 0.000 0.000 0.000 0.000 0.000 0.000 0.000 0.000 0.000 0.000 0.000 0.011 0.000 0.000 0.000 0.000 0.000 0.000 0.000 0.000 0.000 0.000 0.000 0.000 0.000 0.000 0.000 0.000 0.000 0.026 0.000 0.000 0.000 0.000 0.000 0.014 0.000 0.000 0.000 0.000 0.000 0.000 0.000 0.000 0.037 0.000 0.000 0.000 0.000 0.000 0.000 0.000 0.000 0.000 0.000 0.000 0.000 0.000 0.000 0.000 0.000 0.000 0.000 0.000 0.000 0.000 0.000 0.000 0.000 0.000 0.094 0.000 0.000 0.000 0.000 0.000 0.000 0.000 0.000 0.000 0.000 0.000 0.000 0.000 0.025 0.000 0.000 0.000 0.000 0.000 0.000 0.000 0.000 0.000 0.000 0.000 0.000 0.000 0.000 0.000 0.000 0.000 0.000 0.000 0.000 0.000 0.000 0.000 0.000 0.000 0.000 0.000 0.000 0.000 0.000 0.000 0.000 0.000 0.000 0.000 0.000 0.000 0.000 0.000 0.000 0.000 0.000 0.000 0.000 0.000 0.000 0.000 0.000 0.000 0.000 0.004 0.000 0.011 0.000 0.002 0.010 0.030 0.002]\n"
     ]
    }
   ],
   "source": [
    "start_time = time.time()\n",
    "page_rank(graph, damping_factor, iteration)\n",
    "end_time = time.time()\n",
    "elapsed_time = end_time - start_time\n",
    "elapsed_time_rounded = round(elapsed_time, 5)\n",
    "print(f\"Execution time: {elapsed_time_rounded} seconds\")\n",
    "pagerank_result = graph.get_pagerank()\n",
    "\n",
    "# Print to STDOUT\n",
    "print(\"PageRank:\")\n",
    "print(\"[\", end=\"\")\n",
    "print(\" \".join(f\"{value:.3f}\" for value in pagerank_result), end=\"]\\n\")"
   ]
  },
  {
   "cell_type": "markdown",
   "metadata": {},
   "source": [
    "## SimRank Algorithm"
   ]
  },
  {
   "cell_type": "code",
   "execution_count": 93,
   "metadata": {},
   "outputs": [],
   "source": [
    "pass"
   ]
  }
 ],
 "metadata": {
  "kernelspec": {
   "display_name": "DM_Project3",
   "language": "python",
   "name": "python3"
  },
  "language_info": {
   "codemirror_mode": {
    "name": "ipython",
    "version": 3
   },
   "file_extension": ".py",
   "mimetype": "text/x-python",
   "name": "python",
   "nbconvert_exporter": "python",
   "pygments_lexer": "ipython3",
   "version": "3.11.6"
  }
 },
 "nbformat": 4,
 "nbformat_minor": 2
}
